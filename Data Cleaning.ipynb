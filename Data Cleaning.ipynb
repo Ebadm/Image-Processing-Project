{
 "cells": [
  {
   "attachments": {},
   "cell_type": "markdown",
   "metadata": {},
   "source": [
    "# *__Future Medical Data Analysis through Data Cleaning and Image Processing__*\n"
   ]
  },
  {
   "attachments": {},
   "cell_type": "markdown",
   "metadata": {},
   "source": [
    "# Data Cleaning and Analysis:"
   ]
  },
  {
   "attachments": {},
   "cell_type": "markdown",
   "metadata": {},
   "source": [
    "## Task 1: Merging of the two datasets"
   ]
  },
  {
   "attachments": {},
   "cell_type": "markdown",
   "metadata": {},
   "source": [
    "### 1. Importing the required libraries\n"
   ]
  },
  {
   "cell_type": "code",
   "execution_count": 798,
   "metadata": {},
   "outputs": [],
   "source": [
    "import pandas as pd\n",
    "import seaborn as sns\n",
    "import matplotlib.pyplot as plt\n",
    "import numpy as np"
   ]
  },
  {
   "attachments": {},
   "cell_type": "markdown",
   "metadata": {},
   "source": [
    "### 2. Loading the data into the data frame."
   ]
  },
  {
   "cell_type": "code",
   "execution_count": 799,
   "metadata": {},
   "outputs": [],
   "source": [
    "# Load data\n",
    "od1 = pd.read_excel('Datasets for Data Cleaning and Analysis/od1.xlsx')\n",
    "od2 = pd.read_excel('Datasets for Data Cleaning and Analysis/od2.xlsx')\n",
    "os = pd.read_excel('Datasets for Data Cleaning and Analysis/os.xlsx', header=[0, 1])"
   ]
  },
  {
   "cell_type": "code",
   "execution_count": 800,
   "metadata": {},
   "outputs": [
    {
     "name": "stdout",
     "output_type": "stream",
     "text": [
      "Index(['ID', 'Age', 'Gender', 'Diagnosis', 'dioptre_1', 'dioptre_2',\n",
      "       'astigmatism', 'Pachymetry'],\n",
      "      dtype='object')\n",
      "Index(['Diagnosis', 'dioptre_1', 'dioptre_2', 'astigmatism',\n",
      "       'Phakic/Pseudophakic', 'Pneumatic', 'Perkins', 'Pachymetry',\n",
      "       'Axial_Length', 'VF_MD'],\n",
      "      dtype='object')\n",
      "MultiIndex([( 'Unnamed: 0_level_0',                  'ID'),\n",
      "            (                'Age',                 'Age'),\n",
      "            (             'Gender',              'Gender'),\n",
      "            (          'Diagnosis',           'Diagnosis'),\n",
      "            (  'Refractive_Defect',           'dioptre_1'),\n",
      "            (  'Refractive_Defect',           'dioptre_2'),\n",
      "            (  'Refractive_Defect',         'astigmatism'),\n",
      "            ('Phakic/Pseudophakic', 'Phakic/Pseudophakic'),\n",
      "            (                'IOP',           'Pneumatic'),\n",
      "            (                'IOP',             'Perkins'),\n",
      "            (         'Pachymetry',          'Pachymetry'),\n",
      "            (       'Axial_Length',        'Axial_Length'),\n",
      "            (              'VF_MD',               'VF_MD')],\n",
      "           )\n"
     ]
    }
   ],
   "source": [
    "#Check how the columns are seperated\n",
    "print(od1.columns)\n",
    "print(od2.columns)\n",
    "print(os.columns)"
   ]
  },
  {
   "attachments": {},
   "cell_type": "markdown",
   "metadata": {},
   "source": [
    "### 3. Merging of data frames"
   ]
  },
  {
   "cell_type": "code",
   "execution_count": 801,
   "metadata": {},
   "outputs": [
    {
     "name": "stdout",
     "output_type": "stream",
     "text": [
      "Common Columns: ['Diagnosis' 'Pachymetry' 'astigmatism' 'dioptre_1' 'dioptre_2']\n"
     ]
    }
   ],
   "source": [
    "# Finding Common columns\n",
    "common_cols = np.intersect1d(od1.columns, od2.columns)\n",
    " \n",
    "# Printing common columns\n",
    "print (\"Common Columns:\",common_cols)"
   ]
  },
  {
   "attachments": {},
   "cell_type": "markdown",
   "metadata": {},
   "source": [
    "Merge od1 and od2 on the common columns"
   ]
  },
  {
   "cell_type": "code",
   "execution_count": 802,
   "metadata": {},
   "outputs": [
    {
     "data": {
      "text/html": [
       "<div>\n",
       "<style scoped>\n",
       "    .dataframe tbody tr th:only-of-type {\n",
       "        vertical-align: middle;\n",
       "    }\n",
       "\n",
       "    .dataframe tbody tr th {\n",
       "        vertical-align: top;\n",
       "    }\n",
       "\n",
       "    .dataframe thead th {\n",
       "        text-align: right;\n",
       "    }\n",
       "</style>\n",
       "<table border=\"1\" class=\"dataframe\">\n",
       "  <thead>\n",
       "    <tr style=\"text-align: right;\">\n",
       "      <th></th>\n",
       "      <th>ID</th>\n",
       "      <th>Age</th>\n",
       "      <th>Gender</th>\n",
       "      <th>Diagnosis</th>\n",
       "      <th>dioptre_1</th>\n",
       "      <th>dioptre_2</th>\n",
       "      <th>astigmatism</th>\n",
       "      <th>Pachymetry</th>\n",
       "      <th>Phakic/Pseudophakic</th>\n",
       "      <th>Pneumatic</th>\n",
       "      <th>Perkins</th>\n",
       "      <th>Axial_Length</th>\n",
       "      <th>VF_MD</th>\n",
       "    </tr>\n",
       "  </thead>\n",
       "  <tbody>\n",
       "    <tr>\n",
       "      <th>0</th>\n",
       "      <td>#038</td>\n",
       "      <td>34</td>\n",
       "      <td>female</td>\n",
       "      <td>healthy</td>\n",
       "      <td>0.50</td>\n",
       "      <td>-1.00</td>\n",
       "      <td>90.0</td>\n",
       "      <td>599.0</td>\n",
       "      <td>NaN</td>\n",
       "      <td>19.0</td>\n",
       "      <td>NaN</td>\n",
       "      <td>23.33</td>\n",
       "      <td>NaN</td>\n",
       "    </tr>\n",
       "    <tr>\n",
       "      <th>1</th>\n",
       "      <td>#280</td>\n",
       "      <td>60</td>\n",
       "      <td>male</td>\n",
       "      <td>healthy</td>\n",
       "      <td>-0.50</td>\n",
       "      <td>-1.00</td>\n",
       "      <td>23.0</td>\n",
       "      <td>577.0</td>\n",
       "      <td>the eye keeps the lens</td>\n",
       "      <td>19.0</td>\n",
       "      <td>NaN</td>\n",
       "      <td>25.06</td>\n",
       "      <td>NaN</td>\n",
       "    </tr>\n",
       "    <tr>\n",
       "      <th>2</th>\n",
       "      <td>#198</td>\n",
       "      <td>67</td>\n",
       "      <td>male</td>\n",
       "      <td>healthy</td>\n",
       "      <td>0.50</td>\n",
       "      <td>-0.75</td>\n",
       "      <td>156.0</td>\n",
       "      <td>486.0</td>\n",
       "      <td>crystalline lens has been removed</td>\n",
       "      <td>14.0</td>\n",
       "      <td>NaN</td>\n",
       "      <td>25.37</td>\n",
       "      <td>NaN</td>\n",
       "    </tr>\n",
       "    <tr>\n",
       "      <th>3</th>\n",
       "      <td>#041</td>\n",
       "      <td>50</td>\n",
       "      <td>female</td>\n",
       "      <td>suspicious</td>\n",
       "      <td>1.75</td>\n",
       "      <td>-0.50</td>\n",
       "      <td>120.0</td>\n",
       "      <td>570.0</td>\n",
       "      <td>crystalline lens has been removed</td>\n",
       "      <td>NaN</td>\n",
       "      <td>22.0</td>\n",
       "      <td>25.08</td>\n",
       "      <td>-0.66</td>\n",
       "    </tr>\n",
       "    <tr>\n",
       "      <th>4</th>\n",
       "      <td>#271</td>\n",
       "      <td>41</td>\n",
       "      <td>male</td>\n",
       "      <td>healthy</td>\n",
       "      <td>-1.25</td>\n",
       "      <td>-0.50</td>\n",
       "      <td>150.0</td>\n",
       "      <td>605.0</td>\n",
       "      <td>crystalline lens has been removed</td>\n",
       "      <td>13.0</td>\n",
       "      <td>NaN</td>\n",
       "      <td>22.80</td>\n",
       "      <td>NaN</td>\n",
       "    </tr>\n",
       "  </tbody>\n",
       "</table>\n",
       "</div>"
      ],
      "text/plain": [
       "     ID  Age  Gender   Diagnosis  dioptre_1  dioptre_2  astigmatism  \\\n",
       "0  #038   34  female     healthy       0.50      -1.00         90.0   \n",
       "1  #280   60    male     healthy      -0.50      -1.00         23.0   \n",
       "2  #198   67    male     healthy       0.50      -0.75        156.0   \n",
       "3  #041   50  female  suspicious       1.75      -0.50        120.0   \n",
       "4  #271   41    male     healthy      -1.25      -0.50        150.0   \n",
       "\n",
       "   Pachymetry                 Phakic/Pseudophakic  Pneumatic  Perkins  \\\n",
       "0       599.0                                 NaN       19.0      NaN   \n",
       "1       577.0              the eye keeps the lens       19.0      NaN   \n",
       "2       486.0  crystalline lens has been removed        14.0      NaN   \n",
       "3       570.0  crystalline lens has been removed         NaN     22.0   \n",
       "4       605.0  crystalline lens has been removed        13.0      NaN   \n",
       "\n",
       "   Axial_Length  VF_MD  \n",
       "0         23.33    NaN  \n",
       "1         25.06    NaN  \n",
       "2         25.37    NaN  \n",
       "3         25.08  -0.66  \n",
       "4         22.80    NaN  "
      ]
     },
     "execution_count": 802,
     "metadata": {},
     "output_type": "execute_result"
    }
   ],
   "source": [
    "merged_od = od1.merge(od2, on=['Diagnosis', 'dioptre_1', 'dioptre_2', 'astigmatism', 'Pachymetry'], how='outer')\n",
    "merged_od.head()"
   ]
  },
  {
   "cell_type": "code",
   "execution_count": 803,
   "metadata": {},
   "outputs": [
    {
     "data": {
      "text/plain": [
       "Index(['ID', 'Age', 'Gender', 'Diagnosis', 'dioptre_1', 'dioptre_2',\n",
       "       'astigmatism', 'Pachymetry', 'Phakic/Pseudophakic', 'Pneumatic',\n",
       "       'Perkins', 'Axial_Length', 'VF_MD'],\n",
       "      dtype='object')"
      ]
     },
     "execution_count": 803,
     "metadata": {},
     "output_type": "execute_result"
    }
   ],
   "source": [
    "merged_od.columns"
   ]
  },
  {
   "attachments": {},
   "cell_type": "markdown",
   "metadata": {},
   "source": [
    "### 4. Restructuring the merged dataframe"
   ]
  },
  {
   "attachments": {},
   "cell_type": "markdown",
   "metadata": {},
   "source": [
    "Reorder the column list to follow the specifications of the 'os' data frame."
   ]
  },
  {
   "cell_type": "code",
   "execution_count": 804,
   "metadata": {},
   "outputs": [
    {
     "data": {
      "text/html": [
       "<div>\n",
       "<style scoped>\n",
       "    .dataframe tbody tr th:only-of-type {\n",
       "        vertical-align: middle;\n",
       "    }\n",
       "\n",
       "    .dataframe tbody tr th {\n",
       "        vertical-align: top;\n",
       "    }\n",
       "\n",
       "    .dataframe thead th {\n",
       "        text-align: right;\n",
       "    }\n",
       "</style>\n",
       "<table border=\"1\" class=\"dataframe\">\n",
       "  <thead>\n",
       "    <tr style=\"text-align: right;\">\n",
       "      <th></th>\n",
       "      <th>ID</th>\n",
       "      <th>Age</th>\n",
       "      <th>Gender</th>\n",
       "      <th>Diagnosis</th>\n",
       "      <th>dioptre_1</th>\n",
       "      <th>dioptre_2</th>\n",
       "      <th>astigmatism</th>\n",
       "      <th>Phakic/Pseudophakic</th>\n",
       "      <th>Pneumatic</th>\n",
       "      <th>Perkins</th>\n",
       "      <th>Pachymetry</th>\n",
       "      <th>Axial_Length</th>\n",
       "      <th>VF_MD</th>\n",
       "    </tr>\n",
       "  </thead>\n",
       "  <tbody>\n",
       "    <tr>\n",
       "      <th>0</th>\n",
       "      <td>#038</td>\n",
       "      <td>34</td>\n",
       "      <td>female</td>\n",
       "      <td>healthy</td>\n",
       "      <td>0.50</td>\n",
       "      <td>-1.00</td>\n",
       "      <td>90.0</td>\n",
       "      <td>NaN</td>\n",
       "      <td>19.0</td>\n",
       "      <td>NaN</td>\n",
       "      <td>599.0</td>\n",
       "      <td>23.33</td>\n",
       "      <td>NaN</td>\n",
       "    </tr>\n",
       "    <tr>\n",
       "      <th>1</th>\n",
       "      <td>#280</td>\n",
       "      <td>60</td>\n",
       "      <td>male</td>\n",
       "      <td>healthy</td>\n",
       "      <td>-0.50</td>\n",
       "      <td>-1.00</td>\n",
       "      <td>23.0</td>\n",
       "      <td>the eye keeps the lens</td>\n",
       "      <td>19.0</td>\n",
       "      <td>NaN</td>\n",
       "      <td>577.0</td>\n",
       "      <td>25.06</td>\n",
       "      <td>NaN</td>\n",
       "    </tr>\n",
       "    <tr>\n",
       "      <th>2</th>\n",
       "      <td>#198</td>\n",
       "      <td>67</td>\n",
       "      <td>male</td>\n",
       "      <td>healthy</td>\n",
       "      <td>0.50</td>\n",
       "      <td>-0.75</td>\n",
       "      <td>156.0</td>\n",
       "      <td>crystalline lens has been removed</td>\n",
       "      <td>14.0</td>\n",
       "      <td>NaN</td>\n",
       "      <td>486.0</td>\n",
       "      <td>25.37</td>\n",
       "      <td>NaN</td>\n",
       "    </tr>\n",
       "    <tr>\n",
       "      <th>3</th>\n",
       "      <td>#041</td>\n",
       "      <td>50</td>\n",
       "      <td>female</td>\n",
       "      <td>suspicious</td>\n",
       "      <td>1.75</td>\n",
       "      <td>-0.50</td>\n",
       "      <td>120.0</td>\n",
       "      <td>crystalline lens has been removed</td>\n",
       "      <td>NaN</td>\n",
       "      <td>22.0</td>\n",
       "      <td>570.0</td>\n",
       "      <td>25.08</td>\n",
       "      <td>-0.66</td>\n",
       "    </tr>\n",
       "    <tr>\n",
       "      <th>4</th>\n",
       "      <td>#271</td>\n",
       "      <td>41</td>\n",
       "      <td>male</td>\n",
       "      <td>healthy</td>\n",
       "      <td>-1.25</td>\n",
       "      <td>-0.50</td>\n",
       "      <td>150.0</td>\n",
       "      <td>crystalline lens has been removed</td>\n",
       "      <td>13.0</td>\n",
       "      <td>NaN</td>\n",
       "      <td>605.0</td>\n",
       "      <td>22.80</td>\n",
       "      <td>NaN</td>\n",
       "    </tr>\n",
       "  </tbody>\n",
       "</table>\n",
       "</div>"
      ],
      "text/plain": [
       "     ID  Age  Gender   Diagnosis  dioptre_1  dioptre_2  astigmatism  \\\n",
       "0  #038   34  female     healthy       0.50      -1.00         90.0   \n",
       "1  #280   60    male     healthy      -0.50      -1.00         23.0   \n",
       "2  #198   67    male     healthy       0.50      -0.75        156.0   \n",
       "3  #041   50  female  suspicious       1.75      -0.50        120.0   \n",
       "4  #271   41    male     healthy      -1.25      -0.50        150.0   \n",
       "\n",
       "                  Phakic/Pseudophakic  Pneumatic  Perkins  Pachymetry  \\\n",
       "0                                 NaN       19.0      NaN       599.0   \n",
       "1              the eye keeps the lens       19.0      NaN       577.0   \n",
       "2  crystalline lens has been removed        14.0      NaN       486.0   \n",
       "3  crystalline lens has been removed         NaN     22.0       570.0   \n",
       "4  crystalline lens has been removed        13.0      NaN       605.0   \n",
       "\n",
       "   Axial_Length  VF_MD  \n",
       "0         23.33    NaN  \n",
       "1         25.06    NaN  \n",
       "2         25.37    NaN  \n",
       "3         25.08  -0.66  \n",
       "4         22.80    NaN  "
      ]
     },
     "execution_count": 804,
     "metadata": {},
     "output_type": "execute_result"
    }
   ],
   "source": [
    "merged_od = merged_od[['ID', 'Age', 'Gender', 'Diagnosis', 'dioptre_1', 'dioptre_2', 'astigmatism', 'Phakic/Pseudophakic', 'Pneumatic', 'Perkins', 'Pachymetry', 'Axial_Length', 'VF_MD']]\n",
    "merged_od.head()"
   ]
  },
  {
   "attachments": {},
   "cell_type": "markdown",
   "metadata": {},
   "source": [
    "Add a multi-level header just like 'os'"
   ]
  },
  {
   "cell_type": "code",
   "execution_count": 805,
   "metadata": {},
   "outputs": [
    {
     "data": {
      "text/html": [
       "<div>\n",
       "<style scoped>\n",
       "    .dataframe tbody tr th:only-of-type {\n",
       "        vertical-align: middle;\n",
       "    }\n",
       "\n",
       "    .dataframe tbody tr th {\n",
       "        vertical-align: top;\n",
       "    }\n",
       "\n",
       "    .dataframe thead tr th {\n",
       "        text-align: left;\n",
       "    }\n",
       "</style>\n",
       "<table border=\"1\" class=\"dataframe\">\n",
       "  <thead>\n",
       "    <tr>\n",
       "      <th></th>\n",
       "      <th></th>\n",
       "      <th>Age</th>\n",
       "      <th>Gender</th>\n",
       "      <th>Diagnosis</th>\n",
       "      <th colspan=\"3\" halign=\"left\">Refractive_Defect</th>\n",
       "      <th>Phakic/Pseudophakic</th>\n",
       "      <th colspan=\"2\" halign=\"left\">IOP</th>\n",
       "      <th>Pachymetry</th>\n",
       "      <th>Axial_Length</th>\n",
       "      <th>VF_MD</th>\n",
       "    </tr>\n",
       "    <tr>\n",
       "      <th></th>\n",
       "      <th>ID</th>\n",
       "      <th>Age</th>\n",
       "      <th>Gender</th>\n",
       "      <th>Diagnosis</th>\n",
       "      <th>dioptre_1</th>\n",
       "      <th>dioptre_2</th>\n",
       "      <th>astigmatism</th>\n",
       "      <th>Phakic/Pseudophakic</th>\n",
       "      <th>Pneumatic</th>\n",
       "      <th>Perkins</th>\n",
       "      <th>Pachymetry</th>\n",
       "      <th>Axial_Length</th>\n",
       "      <th>VF_MD</th>\n",
       "    </tr>\n",
       "  </thead>\n",
       "  <tbody>\n",
       "    <tr>\n",
       "      <th>0</th>\n",
       "      <td>#038</td>\n",
       "      <td>34</td>\n",
       "      <td>female</td>\n",
       "      <td>healthy</td>\n",
       "      <td>0.50</td>\n",
       "      <td>-1.00</td>\n",
       "      <td>90.0</td>\n",
       "      <td>NaN</td>\n",
       "      <td>19.0</td>\n",
       "      <td>NaN</td>\n",
       "      <td>599.0</td>\n",
       "      <td>23.33</td>\n",
       "      <td>NaN</td>\n",
       "    </tr>\n",
       "    <tr>\n",
       "      <th>1</th>\n",
       "      <td>#280</td>\n",
       "      <td>60</td>\n",
       "      <td>male</td>\n",
       "      <td>healthy</td>\n",
       "      <td>-0.50</td>\n",
       "      <td>-1.00</td>\n",
       "      <td>23.0</td>\n",
       "      <td>the eye keeps the lens</td>\n",
       "      <td>19.0</td>\n",
       "      <td>NaN</td>\n",
       "      <td>577.0</td>\n",
       "      <td>25.06</td>\n",
       "      <td>NaN</td>\n",
       "    </tr>\n",
       "    <tr>\n",
       "      <th>2</th>\n",
       "      <td>#198</td>\n",
       "      <td>67</td>\n",
       "      <td>male</td>\n",
       "      <td>healthy</td>\n",
       "      <td>0.50</td>\n",
       "      <td>-0.75</td>\n",
       "      <td>156.0</td>\n",
       "      <td>crystalline lens has been removed</td>\n",
       "      <td>14.0</td>\n",
       "      <td>NaN</td>\n",
       "      <td>486.0</td>\n",
       "      <td>25.37</td>\n",
       "      <td>NaN</td>\n",
       "    </tr>\n",
       "    <tr>\n",
       "      <th>3</th>\n",
       "      <td>#041</td>\n",
       "      <td>50</td>\n",
       "      <td>female</td>\n",
       "      <td>suspicious</td>\n",
       "      <td>1.75</td>\n",
       "      <td>-0.50</td>\n",
       "      <td>120.0</td>\n",
       "      <td>crystalline lens has been removed</td>\n",
       "      <td>NaN</td>\n",
       "      <td>22.0</td>\n",
       "      <td>570.0</td>\n",
       "      <td>25.08</td>\n",
       "      <td>-0.66</td>\n",
       "    </tr>\n",
       "    <tr>\n",
       "      <th>4</th>\n",
       "      <td>#271</td>\n",
       "      <td>41</td>\n",
       "      <td>male</td>\n",
       "      <td>healthy</td>\n",
       "      <td>-1.25</td>\n",
       "      <td>-0.50</td>\n",
       "      <td>150.0</td>\n",
       "      <td>crystalline lens has been removed</td>\n",
       "      <td>13.0</td>\n",
       "      <td>NaN</td>\n",
       "      <td>605.0</td>\n",
       "      <td>22.80</td>\n",
       "      <td>NaN</td>\n",
       "    </tr>\n",
       "  </tbody>\n",
       "</table>\n",
       "</div>"
      ],
      "text/plain": [
       "        Age  Gender   Diagnosis Refractive_Defect                        \\\n",
       "     ID Age  Gender   Diagnosis         dioptre_1 dioptre_2 astigmatism   \n",
       "0  #038  34  female     healthy              0.50     -1.00        90.0   \n",
       "1  #280  60    male     healthy             -0.50     -1.00        23.0   \n",
       "2  #198  67    male     healthy              0.50     -0.75       156.0   \n",
       "3  #041  50  female  suspicious              1.75     -0.50       120.0   \n",
       "4  #271  41    male     healthy             -1.25     -0.50       150.0   \n",
       "\n",
       "                  Phakic/Pseudophakic       IOP         Pachymetry  \\\n",
       "                  Phakic/Pseudophakic Pneumatic Perkins Pachymetry   \n",
       "0                                 NaN      19.0     NaN      599.0   \n",
       "1              the eye keeps the lens      19.0     NaN      577.0   \n",
       "2  crystalline lens has been removed       14.0     NaN      486.0   \n",
       "3  crystalline lens has been removed        NaN    22.0      570.0   \n",
       "4  crystalline lens has been removed       13.0     NaN      605.0   \n",
       "\n",
       "  Axial_Length VF_MD  \n",
       "  Axial_Length VF_MD  \n",
       "0        23.33   NaN  \n",
       "1        25.06   NaN  \n",
       "2        25.37   NaN  \n",
       "3        25.08 -0.66  \n",
       "4        22.80   NaN  "
      ]
     },
     "execution_count": 805,
     "metadata": {},
     "output_type": "execute_result"
    }
   ],
   "source": [
    "column_tuples = [\n",
    "    ('', 'ID'),\n",
    "    ('Age', 'Age'),\n",
    "    ('Gender', 'Gender'),\n",
    "    ('Diagnosis', 'Diagnosis'),\n",
    "    ('Refractive_Defect', 'dioptre_1'),\n",
    "    ('Refractive_Defect', 'dioptre_2'),\n",
    "    ('Refractive_Defect', 'astigmatism'),\n",
    "    ('Phakic/Pseudophakic', 'Phakic/Pseudophakic'),\n",
    "    ('IOP', 'Pneumatic'),\n",
    "    ('IOP', 'Perkins'),\n",
    "    ('Pachymetry', 'Pachymetry'),\n",
    "    ('Axial_Length', 'Axial_Length'),\n",
    "    ('VF_MD', 'VF_MD')\n",
    "]\n",
    "multiindex_columns = pd.MultiIndex.from_tuples(column_tuples)\n",
    "merged_od.columns = multiindex_columns\n",
    "merged_od.head()"
   ]
  },
  {
   "attachments": {},
   "cell_type": "markdown",
   "metadata": {},
   "source": [
    "Sort by id and reset index"
   ]
  },
  {
   "cell_type": "code",
   "execution_count": 806,
   "metadata": {},
   "outputs": [
    {
     "data": {
      "text/html": [
       "<div>\n",
       "<style scoped>\n",
       "    .dataframe tbody tr th:only-of-type {\n",
       "        vertical-align: middle;\n",
       "    }\n",
       "\n",
       "    .dataframe tbody tr th {\n",
       "        vertical-align: top;\n",
       "    }\n",
       "\n",
       "    .dataframe thead tr th {\n",
       "        text-align: left;\n",
       "    }\n",
       "</style>\n",
       "<table border=\"1\" class=\"dataframe\">\n",
       "  <thead>\n",
       "    <tr>\n",
       "      <th></th>\n",
       "      <th></th>\n",
       "      <th>Age</th>\n",
       "      <th>Gender</th>\n",
       "      <th>Diagnosis</th>\n",
       "      <th colspan=\"3\" halign=\"left\">Refractive_Defect</th>\n",
       "      <th>Phakic/Pseudophakic</th>\n",
       "      <th colspan=\"2\" halign=\"left\">IOP</th>\n",
       "      <th>Pachymetry</th>\n",
       "      <th>Axial_Length</th>\n",
       "      <th>VF_MD</th>\n",
       "    </tr>\n",
       "    <tr>\n",
       "      <th></th>\n",
       "      <th>ID</th>\n",
       "      <th>Age</th>\n",
       "      <th>Gender</th>\n",
       "      <th>Diagnosis</th>\n",
       "      <th>dioptre_1</th>\n",
       "      <th>dioptre_2</th>\n",
       "      <th>astigmatism</th>\n",
       "      <th>Phakic/Pseudophakic</th>\n",
       "      <th>Pneumatic</th>\n",
       "      <th>Perkins</th>\n",
       "      <th>Pachymetry</th>\n",
       "      <th>Axial_Length</th>\n",
       "      <th>VF_MD</th>\n",
       "    </tr>\n",
       "  </thead>\n",
       "  <tbody>\n",
       "    <tr>\n",
       "      <th>0</th>\n",
       "      <td>#002</td>\n",
       "      <td>47</td>\n",
       "      <td>male</td>\n",
       "      <td>suspicious</td>\n",
       "      <td>0.75</td>\n",
       "      <td>-1.75</td>\n",
       "      <td>90.0</td>\n",
       "      <td>the eye keeps the lens</td>\n",
       "      <td>21.0</td>\n",
       "      <td>NaN</td>\n",
       "      <td>586.0</td>\n",
       "      <td>23.64</td>\n",
       "      <td>-0.07</td>\n",
       "    </tr>\n",
       "    <tr>\n",
       "      <th>1</th>\n",
       "      <td>#004</td>\n",
       "      <td>58</td>\n",
       "      <td>female</td>\n",
       "      <td>glaucoma</td>\n",
       "      <td>1.50</td>\n",
       "      <td>-1.75</td>\n",
       "      <td>85.0</td>\n",
       "      <td>the eye keeps the lens</td>\n",
       "      <td>NaN</td>\n",
       "      <td>19.0</td>\n",
       "      <td>501.0</td>\n",
       "      <td>23.06</td>\n",
       "      <td>-3.26</td>\n",
       "    </tr>\n",
       "    <tr>\n",
       "      <th>2</th>\n",
       "      <td>#005</td>\n",
       "      <td>89</td>\n",
       "      <td>female</td>\n",
       "      <td>glaucoma</td>\n",
       "      <td>-0.75</td>\n",
       "      <td>-1.25</td>\n",
       "      <td>101.0</td>\n",
       "      <td>crystalline lens has been removed</td>\n",
       "      <td>13.0</td>\n",
       "      <td>14.0</td>\n",
       "      <td>565.0</td>\n",
       "      <td>23.81</td>\n",
       "      <td>-14.98</td>\n",
       "    </tr>\n",
       "    <tr>\n",
       "      <th>3</th>\n",
       "      <td>#006</td>\n",
       "      <td>69</td>\n",
       "      <td>male</td>\n",
       "      <td>suspicious</td>\n",
       "      <td>1.00</td>\n",
       "      <td>-1.50</td>\n",
       "      <td>95.0</td>\n",
       "      <td>the eye keeps the lens</td>\n",
       "      <td>22.0</td>\n",
       "      <td>NaN</td>\n",
       "      <td>612.0</td>\n",
       "      <td>26.25</td>\n",
       "      <td>-2.07</td>\n",
       "    </tr>\n",
       "    <tr>\n",
       "      <th>4</th>\n",
       "      <td>#007</td>\n",
       "      <td>22</td>\n",
       "      <td>female</td>\n",
       "      <td>suspicious</td>\n",
       "      <td>-0.25</td>\n",
       "      <td>0.00</td>\n",
       "      <td>0.0</td>\n",
       "      <td>the eye keeps the lens</td>\n",
       "      <td>14.0</td>\n",
       "      <td>NaN</td>\n",
       "      <td>NaN</td>\n",
       "      <td>23.39</td>\n",
       "      <td>-2.30</td>\n",
       "    </tr>\n",
       "  </tbody>\n",
       "</table>\n",
       "</div>"
      ],
      "text/plain": [
       "        Age  Gender   Diagnosis Refractive_Defect                        \\\n",
       "     ID Age  Gender   Diagnosis         dioptre_1 dioptre_2 astigmatism   \n",
       "0  #002  47    male  suspicious              0.75     -1.75        90.0   \n",
       "1  #004  58  female    glaucoma              1.50     -1.75        85.0   \n",
       "2  #005  89  female    glaucoma             -0.75     -1.25       101.0   \n",
       "3  #006  69    male  suspicious              1.00     -1.50        95.0   \n",
       "4  #007  22  female  suspicious             -0.25      0.00         0.0   \n",
       "\n",
       "                  Phakic/Pseudophakic       IOP         Pachymetry  \\\n",
       "                  Phakic/Pseudophakic Pneumatic Perkins Pachymetry   \n",
       "0              the eye keeps the lens      21.0     NaN      586.0   \n",
       "1              the eye keeps the lens       NaN    19.0      501.0   \n",
       "2  crystalline lens has been removed       13.0    14.0      565.0   \n",
       "3              the eye keeps the lens      22.0     NaN      612.0   \n",
       "4              the eye keeps the lens      14.0     NaN        NaN   \n",
       "\n",
       "  Axial_Length  VF_MD  \n",
       "  Axial_Length  VF_MD  \n",
       "0        23.64  -0.07  \n",
       "1        23.06  -3.26  \n",
       "2        23.81 -14.98  \n",
       "3        26.25  -2.07  \n",
       "4        23.39  -2.30  "
      ]
     },
     "execution_count": 806,
     "metadata": {},
     "output_type": "execute_result"
    }
   ],
   "source": [
    "od = merged_od.sort_values(by=('', 'ID'))\n",
    "od = od.reset_index(drop=True)\n",
    "od.head()"
   ]
  },
  {
   "cell_type": "code",
   "execution_count": 807,
   "metadata": {},
   "outputs": [
    {
     "data": {
      "text/plain": [
       "(244, 13)"
      ]
     },
     "execution_count": 807,
     "metadata": {},
     "output_type": "execute_result"
    }
   ],
   "source": [
    "od.shape"
   ]
  },
  {
   "cell_type": "code",
   "execution_count": 808,
   "metadata": {},
   "outputs": [
    {
     "data": {
      "text/plain": [
       "(244, 13)"
      ]
     },
     "execution_count": 808,
     "metadata": {},
     "output_type": "execute_result"
    }
   ],
   "source": [
    "os.shape"
   ]
  },
  {
   "cell_type": "code",
   "execution_count": 809,
   "metadata": {},
   "outputs": [],
   "source": [
    "# Write to Excel file with multi-header\n",
    "od.to_excel('od.xlsx', index=True)"
   ]
  },
  {
   "attachments": {},
   "cell_type": "markdown",
   "metadata": {},
   "source": [
    "Consistent shapes and header, hence we can be sure \"od1.xlsx\" and \"od2.xlsx\" have been merged into “od.xlsx” and this follow the same structure as that of \"os.xlsx\". Saving this \"od.xlsx\" concludes task 1."
   ]
  },
  {
   "attachments": {},
   "cell_type": "markdown",
   "metadata": {},
   "source": [
    "## Task 2: Data Pre-processing & Cleaning"
   ]
  },
  {
   "attachments": {},
   "cell_type": "markdown",
   "metadata": {},
   "source": [
    "## Pre-processing:"
   ]
  },
  {
   "attachments": {},
   "cell_type": "markdown",
   "metadata": {},
   "source": [
    "### 1. Duplicate rows check"
   ]
  },
  {
   "cell_type": "code",
   "execution_count": 810,
   "metadata": {},
   "outputs": [
    {
     "name": "stdout",
     "output_type": "stream",
     "text": [
      "Number of duplicates in od: 0\n",
      "Number of duplicates in os: 0\n"
     ]
    }
   ],
   "source": [
    "od_duplicates = od[od[('','ID')].duplicated()]\n",
    "os_duplicates = os[os[('Unnamed: 0_level_0','ID')].duplicated()]\n",
    "print(f\"Number of duplicates in od: {len(od_duplicates)}\")\n",
    "print(f\"Number of duplicates in os: {len(os_duplicates)}\")"
   ]
  },
  {
   "attachments": {},
   "cell_type": "markdown",
   "metadata": {},
   "source": [
    "### 2. Checking the types of data"
   ]
  },
  {
   "cell_type": "code",
   "execution_count": 811,
   "metadata": {},
   "outputs": [
    {
     "data": {
      "text/plain": [
       "                     ID                      object\n",
       "Age                  Age                      int64\n",
       "Gender               Gender                  object\n",
       "Diagnosis            Diagnosis               object\n",
       "Refractive_Defect    dioptre_1              float64\n",
       "                     dioptre_2              float64\n",
       "                     astigmatism            float64\n",
       "Phakic/Pseudophakic  Phakic/Pseudophakic     object\n",
       "IOP                  Pneumatic              float64\n",
       "                     Perkins                float64\n",
       "Pachymetry           Pachymetry             float64\n",
       "Axial_Length         Axial_Length           float64\n",
       "VF_MD                VF_MD                  float64\n",
       "dtype: object"
      ]
     },
     "execution_count": 811,
     "metadata": {},
     "output_type": "execute_result"
    }
   ],
   "source": [
    "od.dtypes"
   ]
  },
  {
   "cell_type": "code",
   "execution_count": 812,
   "metadata": {},
   "outputs": [
    {
     "data": {
      "text/plain": [
       "Unnamed: 0_level_0   ID                      object\n",
       "Age                  Age                      int64\n",
       "Gender               Gender                  object\n",
       "Diagnosis            Diagnosis               object\n",
       "Refractive_Defect    dioptre_1              float64\n",
       "                     dioptre_2              float64\n",
       "                     astigmatism            float64\n",
       "Phakic/Pseudophakic  Phakic/Pseudophakic     object\n",
       "IOP                  Pneumatic              float64\n",
       "                     Perkins                float64\n",
       "Pachymetry           Pachymetry             float64\n",
       "Axial_Length         Axial_Length           float64\n",
       "VF_MD                VF_MD                  float64\n",
       "dtype: object"
      ]
     },
     "execution_count": 812,
     "metadata": {},
     "output_type": "execute_result"
    }
   ],
   "source": [
    "os.dtypes"
   ]
  },
  {
   "attachments": {},
   "cell_type": "markdown",
   "metadata": {},
   "source": [
    "We can see that both these dataframes are in the same format.\n",
    "* ID is a string with the format '#xxx' where xxx is the id number, e.g '#002'. We can change this to an integer keeping only the id number.\n",
    "* Age is already an integer, don't need to change it.\n",
    "* Gender is an object, we can check if all values are consistent(either 'male' or 'female') and for simplicity denote them as 'M' or 'F'.\n",
    "* Diagnosis and Phakic/Pseudophakic are strings as required.\n",
    "* Refractive_Defect(dioptre_1, dipotre_2, astigmatism), Pachymetry, IOP(Pneumatic & Perkins), Axial_Length, VF_MD are all float values as required."
   ]
  },
  {
   "cell_type": "code",
   "execution_count": 813,
   "metadata": {},
   "outputs": [
    {
     "data": {
      "text/plain": [
       "Gender\n",
       "female    151\n",
       "male       93\n",
       "dtype: int64"
      ]
     },
     "execution_count": 813,
     "metadata": {},
     "output_type": "execute_result"
    }
   ],
   "source": [
    "od['Gender'].value_counts()"
   ]
  },
  {
   "attachments": {},
   "cell_type": "markdown",
   "metadata": {},
   "source": [
    "Change genders to 'M' or 'F'"
   ]
  },
  {
   "cell_type": "code",
   "execution_count": 814,
   "metadata": {},
   "outputs": [],
   "source": [
    "od['Gender'] = od['Gender'].replace({'male': 'M', 'female': 'F'})\n",
    "os['Gender'] = os['Gender'].replace({'male': 'M', 'female': 'F'})"
   ]
  },
  {
   "attachments": {},
   "cell_type": "markdown",
   "metadata": {},
   "source": [
    "Fix ID to integers only"
   ]
  },
  {
   "cell_type": "code",
   "execution_count": 815,
   "metadata": {},
   "outputs": [],
   "source": [
    "od[('','ID')] = od[('','ID')].str.replace('#', '').astype(int)\n",
    "os[('Unnamed: 0_level_0','ID')] = os[('Unnamed: 0_level_0','ID')].str.replace('#', '').astype(int)"
   ]
  },
  {
   "attachments": {},
   "cell_type": "markdown",
   "metadata": {},
   "source": [
    "Fix the String in Diagnosis to be consistent"
   ]
  },
  {
   "cell_type": "code",
   "execution_count": 816,
   "metadata": {},
   "outputs": [
    {
     "name": "stdout",
     "output_type": "stream",
     "text": [
      "Diagnosis \n",
      "healthy       170\n",
      "glaucoma       40\n",
      "suspicious     34\n",
      "dtype: int64\n",
      "Diagnosis \n",
      "healthy       159\n",
      "glaucoma       44\n",
      "suspicious     33\n",
      "glau.           2\n",
      "Glaucoma        1\n",
      "Healthy         1\n",
      "Suspicious      1\n",
      "heaLthy         1\n",
      "heal.           1\n",
      "healthY         1\n",
      "dtype: int64\n"
     ]
    }
   ],
   "source": [
    "print(od['Diagnosis'].value_counts())\n",
    "print(os['Diagnosis'].value_counts())"
   ]
  },
  {
   "cell_type": "code",
   "execution_count": 817,
   "metadata": {},
   "outputs": [],
   "source": [
    "# Replace all variations of 'healthy' with 'Healthy' and all variations of 'glaucoma' with 'Glaucoma'\n",
    "os['Diagnosis'] = os['Diagnosis'].replace(['healthy', 'heaLthy', 'healthY', 'heal.'], 'Healthy').replace(['glaucoma', 'glau.'], 'Glaucoma').replace(['glaucoma', 'glau.'], 'Glaucoma')\n",
    "os[('Diagnosis','Diagnosis')] = os[('Diagnosis','Diagnosis')].str.lower()\n"
   ]
  },
  {
   "cell_type": "code",
   "execution_count": 818,
   "metadata": {},
   "outputs": [
    {
     "name": "stdout",
     "output_type": "stream",
     "text": [
      "healthy       170\n",
      "glaucoma       40\n",
      "suspicious     34\n",
      "Name: (Diagnosis, Diagnosis), dtype: int64\n",
      "healthy       163\n",
      "glaucoma       47\n",
      "suspicious     34\n",
      "Name: (Diagnosis, Diagnosis), dtype: int64\n"
     ]
    }
   ],
   "source": [
    "print(od[('Diagnosis','Diagnosis')].value_counts())\n",
    "print(os[('Diagnosis','Diagnosis')].value_counts())"
   ]
  },
  {
   "attachments": {},
   "cell_type": "markdown",
   "metadata": {},
   "source": [
    "### 3. Missing or Null values"
   ]
  },
  {
   "cell_type": "code",
   "execution_count": 819,
   "metadata": {},
   "outputs": [
    {
     "name": "stdout",
     "output_type": "stream",
     "text": [
      "                     ID                       0\n",
      "Age                  Age                      0\n",
      "Gender               Gender                   0\n",
      "Diagnosis            Diagnosis                0\n",
      "Refractive_Defect    dioptre_1               15\n",
      "                     dioptre_2                3\n",
      "                     astigmatism              4\n",
      "Phakic/Pseudophakic  Phakic/Pseudophakic      5\n",
      "IOP                  Pneumatic               47\n",
      "                     Perkins                180\n",
      "Pachymetry           Pachymetry               7\n",
      "Axial_Length         Axial_Length             5\n",
      "VF_MD                VF_MD                  162\n",
      "dtype: int64\n",
      "Unnamed: 0_level_0   ID                       0\n",
      "Age                  Age                      0\n",
      "Gender               Gender                   0\n",
      "Diagnosis            Diagnosis                0\n",
      "Refractive_Defect    dioptre_1               12\n",
      "                     dioptre_2                5\n",
      "                     astigmatism              5\n",
      "Phakic/Pseudophakic  Phakic/Pseudophakic      6\n",
      "IOP                  Pneumatic               45\n",
      "                     Perkins                180\n",
      "Pachymetry           Pachymetry               7\n",
      "Axial_Length         Axial_Length             4\n",
      "VF_MD                VF_MD                  162\n",
      "dtype: int64\n"
     ]
    }
   ],
   "source": [
    "print(od.isnull().sum())\n",
    "print(os.isnull().sum())"
   ]
  },
  {
   "attachments": {},
   "cell_type": "markdown",
   "metadata": {},
   "source": [
    "We see a similar amount of missing data in both OD and OS dataframes, hence they are most likely connected. Let's look to ways to fix this missing data problem."
   ]
  },
  {
   "attachments": {},
   "cell_type": "markdown",
   "metadata": {},
   "source": [
    "We can fix the Axial_length missing data by using the clinically default value of 26."
   ]
  },
  {
   "cell_type": "code",
   "execution_count": 820,
   "metadata": {},
   "outputs": [
    {
     "name": "stdout",
     "output_type": "stream",
     "text": [
      "                     ID                       0\n",
      "Age                  Age                      0\n",
      "Gender               Gender                   0\n",
      "Diagnosis            Diagnosis                0\n",
      "Refractive_Defect    dioptre_1               15\n",
      "                     dioptre_2                3\n",
      "                     astigmatism              4\n",
      "Phakic/Pseudophakic  Phakic/Pseudophakic      5\n",
      "IOP                  Pneumatic               47\n",
      "                     Perkins                180\n",
      "Pachymetry           Pachymetry               7\n",
      "Axial_Length         Axial_Length             0\n",
      "VF_MD                VF_MD                  162\n",
      "dtype: int64\n",
      "Unnamed: 0_level_0   ID                       0\n",
      "Age                  Age                      0\n",
      "Gender               Gender                   0\n",
      "Diagnosis            Diagnosis                0\n",
      "Refractive_Defect    dioptre_1               12\n",
      "                     dioptre_2                5\n",
      "                     astigmatism              5\n",
      "Phakic/Pseudophakic  Phakic/Pseudophakic      6\n",
      "IOP                  Pneumatic               45\n",
      "                     Perkins                180\n",
      "Pachymetry           Pachymetry               7\n",
      "Axial_Length         Axial_Length             0\n",
      "VF_MD                VF_MD                  162\n",
      "dtype: int64\n"
     ]
    }
   ],
   "source": [
    "od.loc[od[('Axial_Length', 'Axial_Length')].isna(), ('Axial_Length', 'Axial_Length')] = 26\n",
    "os.loc[os[('Axial_Length', 'Axial_Length')].isna(), ('Axial_Length', 'Axial_Length')] = 26\n",
    "print(od.isnull().sum())\n",
    "print(os.isnull().sum())\n"
   ]
  },
  {
   "attachments": {},
   "cell_type": "markdown",
   "metadata": {},
   "source": [
    "for Phakic/Pseudophakic, Let's check the different values"
   ]
  },
  {
   "cell_type": "code",
   "execution_count": 821,
   "metadata": {},
   "outputs": [
    {
     "data": {
      "text/plain": [
       "Phakic/Pseudophakic               \n",
       "crystalline lens has been removed     158\n",
       "the eye keeps the lens                 81\n",
       "dtype: int64"
      ]
     },
     "execution_count": 821,
     "metadata": {},
     "output_type": "execute_result"
    }
   ],
   "source": [
    "od['Phakic/Pseudophakic'].value_counts()"
   ]
  },
  {
   "attachments": {},
   "cell_type": "markdown",
   "metadata": {},
   "source": [
    "For this column, we can drop the NA values since they are quite few in number relative to the whole dataset and it is important knowledge to have"
   ]
  },
  {
   "cell_type": "code",
   "execution_count": 822,
   "metadata": {},
   "outputs": [
    {
     "name": "stdout",
     "output_type": "stream",
     "text": [
      "                     ID                       0\n",
      "Age                  Age                      0\n",
      "Gender               Gender                   0\n",
      "Diagnosis            Diagnosis                0\n",
      "Refractive_Defect    dioptre_1               15\n",
      "                     dioptre_2                3\n",
      "                     astigmatism              4\n",
      "Phakic/Pseudophakic  Phakic/Pseudophakic      0\n",
      "IOP                  Pneumatic               47\n",
      "                     Perkins                175\n",
      "Pachymetry           Pachymetry               7\n",
      "Axial_Length         Axial_Length             0\n",
      "VF_MD                VF_MD                  159\n",
      "dtype: int64\n",
      "Unnamed: 0_level_0   ID                       0\n",
      "Age                  Age                      0\n",
      "Gender               Gender                   0\n",
      "Diagnosis            Diagnosis                0\n",
      "Refractive_Defect    dioptre_1               11\n",
      "                     dioptre_2                5\n",
      "                     astigmatism              5\n",
      "Phakic/Pseudophakic  Phakic/Pseudophakic      0\n",
      "IOP                  Pneumatic               45\n",
      "                     Perkins                174\n",
      "Pachymetry           Pachymetry               7\n",
      "Axial_Length         Axial_Length             0\n",
      "VF_MD                VF_MD                  158\n",
      "dtype: int64\n"
     ]
    }
   ],
   "source": [
    "od = od.dropna(subset=[('Phakic/Pseudophakic','Phakic/Pseudophakic')])\n",
    "os = os.dropna(subset=[('Phakic/Pseudophakic','Phakic/Pseudophakic')])\n",
    "print(od.isnull().sum())\n",
    "print(os.isnull().sum())"
   ]
  },
  {
   "attachments": {},
   "cell_type": "markdown",
   "metadata": {},
   "source": [
    "For the 'VF_MD' column, we can't drop the NA Values since 158 of the values are missing out of the total data set. This represents are large number, hence, instead we use mean value to fill the missing values"
   ]
  },
  {
   "cell_type": "code",
   "execution_count": 823,
   "metadata": {},
   "outputs": [],
   "source": [
    "mean_value_od = od[('VF_MD','VF_MD')].mean()\n",
    "od.loc[od[('VF_MD','VF_MD')].isna(), ('VF_MD','VF_MD')] = mean_value_od\n",
    "\n",
    "mean_value_os = os[('VF_MD','VF_MD')].mean()\n",
    "os.loc[os[('VF_MD','VF_MD')].isna(), ('VF_MD','VF_MD')] = mean_value_os"
   ]
  },
  {
   "attachments": {},
   "cell_type": "markdown",
   "metadata": {},
   "source": [
    "For the 'Pachymetry' column, we can't drop the NA Values since it represents an important attribute for the data rows, we use mean values to fill the missing values instead."
   ]
  },
  {
   "cell_type": "code",
   "execution_count": 824,
   "metadata": {},
   "outputs": [],
   "source": [
    "mean_value_od = od[('Pachymetry','Pachymetry')].mean()\n",
    "od.loc[od[('Pachymetry','Pachymetry')].isna(), ('Pachymetry','Pachymetry')] = mean_value_od\n",
    "\n",
    "mean_value_os = os[('Pachymetry','Pachymetry')].mean()\n",
    "os.loc[os[('Pachymetry','Pachymetry')].isna(), ('Pachymetry','Pachymetry')] = mean_value_os"
   ]
  },
  {
   "attachments": {},
   "cell_type": "markdown",
   "metadata": {},
   "source": [
    "For the 'IOP', we have 'Pneumatic' & 'Perkins' as sub-columns, These columns are usually missing either of the values. Hence, we can combine these columns by taking the average of both columns into 'IOP'. If there is only 'Perkins' or 'Pneumatic' available, we take this value as the average instead. This fixes our missing data problem for this column."
   ]
  },
  {
   "cell_type": "code",
   "execution_count": 825,
   "metadata": {},
   "outputs": [
    {
     "data": {
      "text/html": [
       "<div>\n",
       "<style scoped>\n",
       "    .dataframe tbody tr th:only-of-type {\n",
       "        vertical-align: middle;\n",
       "    }\n",
       "\n",
       "    .dataframe tbody tr th {\n",
       "        vertical-align: top;\n",
       "    }\n",
       "\n",
       "    .dataframe thead tr th {\n",
       "        text-align: left;\n",
       "    }\n",
       "</style>\n",
       "<table border=\"1\" class=\"dataframe\">\n",
       "  <thead>\n",
       "    <tr>\n",
       "      <th></th>\n",
       "      <th></th>\n",
       "      <th>Age</th>\n",
       "      <th>Gender</th>\n",
       "      <th>Diagnosis</th>\n",
       "      <th colspan=\"3\" halign=\"left\">Refractive_Defect</th>\n",
       "      <th>Phakic/Pseudophakic</th>\n",
       "      <th>Pachymetry</th>\n",
       "      <th>Axial_Length</th>\n",
       "      <th>VF_MD</th>\n",
       "      <th>IOP</th>\n",
       "    </tr>\n",
       "    <tr>\n",
       "      <th></th>\n",
       "      <th>ID</th>\n",
       "      <th>Age</th>\n",
       "      <th>Gender</th>\n",
       "      <th>Diagnosis</th>\n",
       "      <th>dioptre_1</th>\n",
       "      <th>dioptre_2</th>\n",
       "      <th>astigmatism</th>\n",
       "      <th>Phakic/Pseudophakic</th>\n",
       "      <th>Pachymetry</th>\n",
       "      <th>Axial_Length</th>\n",
       "      <th>VF_MD</th>\n",
       "      <th>IOP</th>\n",
       "    </tr>\n",
       "  </thead>\n",
       "  <tbody>\n",
       "    <tr>\n",
       "      <th>0</th>\n",
       "      <td>2</td>\n",
       "      <td>47</td>\n",
       "      <td>M</td>\n",
       "      <td>suspicious</td>\n",
       "      <td>0.75</td>\n",
       "      <td>-1.75</td>\n",
       "      <td>90.0</td>\n",
       "      <td>the eye keeps the lens</td>\n",
       "      <td>586.000000</td>\n",
       "      <td>23.64</td>\n",
       "      <td>-0.07</td>\n",
       "      <td>21.0</td>\n",
       "    </tr>\n",
       "    <tr>\n",
       "      <th>1</th>\n",
       "      <td>4</td>\n",
       "      <td>58</td>\n",
       "      <td>F</td>\n",
       "      <td>glaucoma</td>\n",
       "      <td>1.50</td>\n",
       "      <td>-1.75</td>\n",
       "      <td>85.0</td>\n",
       "      <td>the eye keeps the lens</td>\n",
       "      <td>501.000000</td>\n",
       "      <td>23.06</td>\n",
       "      <td>-3.26</td>\n",
       "      <td>19.0</td>\n",
       "    </tr>\n",
       "    <tr>\n",
       "      <th>2</th>\n",
       "      <td>5</td>\n",
       "      <td>89</td>\n",
       "      <td>F</td>\n",
       "      <td>glaucoma</td>\n",
       "      <td>-0.75</td>\n",
       "      <td>-1.25</td>\n",
       "      <td>101.0</td>\n",
       "      <td>crystalline lens has been removed</td>\n",
       "      <td>565.000000</td>\n",
       "      <td>23.81</td>\n",
       "      <td>-14.98</td>\n",
       "      <td>13.5</td>\n",
       "    </tr>\n",
       "    <tr>\n",
       "      <th>3</th>\n",
       "      <td>6</td>\n",
       "      <td>69</td>\n",
       "      <td>M</td>\n",
       "      <td>suspicious</td>\n",
       "      <td>1.00</td>\n",
       "      <td>-1.50</td>\n",
       "      <td>95.0</td>\n",
       "      <td>the eye keeps the lens</td>\n",
       "      <td>612.000000</td>\n",
       "      <td>26.25</td>\n",
       "      <td>-2.07</td>\n",
       "      <td>22.0</td>\n",
       "    </tr>\n",
       "    <tr>\n",
       "      <th>4</th>\n",
       "      <td>7</td>\n",
       "      <td>22</td>\n",
       "      <td>F</td>\n",
       "      <td>suspicious</td>\n",
       "      <td>-0.25</td>\n",
       "      <td>0.00</td>\n",
       "      <td>0.0</td>\n",
       "      <td>the eye keeps the lens</td>\n",
       "      <td>538.612069</td>\n",
       "      <td>23.39</td>\n",
       "      <td>-2.30</td>\n",
       "      <td>14.0</td>\n",
       "    </tr>\n",
       "    <tr>\n",
       "      <th>5</th>\n",
       "      <td>8</td>\n",
       "      <td>67</td>\n",
       "      <td>F</td>\n",
       "      <td>suspicious</td>\n",
       "      <td>NaN</td>\n",
       "      <td>-0.75</td>\n",
       "      <td>20.0</td>\n",
       "      <td>the eye keeps the lens</td>\n",
       "      <td>526.000000</td>\n",
       "      <td>22.92</td>\n",
       "      <td>-0.28</td>\n",
       "      <td>15.0</td>\n",
       "    </tr>\n",
       "    <tr>\n",
       "      <th>6</th>\n",
       "      <td>9</td>\n",
       "      <td>79</td>\n",
       "      <td>M</td>\n",
       "      <td>suspicious</td>\n",
       "      <td>0.75</td>\n",
       "      <td>-1.50</td>\n",
       "      <td>95.0</td>\n",
       "      <td>the eye keeps the lens</td>\n",
       "      <td>511.000000</td>\n",
       "      <td>26.00</td>\n",
       "      <td>-3.69</td>\n",
       "      <td>21.5</td>\n",
       "    </tr>\n",
       "    <tr>\n",
       "      <th>7</th>\n",
       "      <td>10</td>\n",
       "      <td>72</td>\n",
       "      <td>F</td>\n",
       "      <td>glaucoma</td>\n",
       "      <td>2.25</td>\n",
       "      <td>-1.50</td>\n",
       "      <td>105.0</td>\n",
       "      <td>the eye keeps the lens</td>\n",
       "      <td>590.000000</td>\n",
       "      <td>22.46</td>\n",
       "      <td>-12.58</td>\n",
       "      <td>16.0</td>\n",
       "    </tr>\n",
       "    <tr>\n",
       "      <th>8</th>\n",
       "      <td>13</td>\n",
       "      <td>70</td>\n",
       "      <td>F</td>\n",
       "      <td>glaucoma</td>\n",
       "      <td>3.00</td>\n",
       "      <td>-1.00</td>\n",
       "      <td>65.0</td>\n",
       "      <td>the eye keeps the lens</td>\n",
       "      <td>500.000000</td>\n",
       "      <td>22.75</td>\n",
       "      <td>-14.24</td>\n",
       "      <td>15.0</td>\n",
       "    </tr>\n",
       "    <tr>\n",
       "      <th>9</th>\n",
       "      <td>14</td>\n",
       "      <td>60</td>\n",
       "      <td>F</td>\n",
       "      <td>glaucoma</td>\n",
       "      <td>0.25</td>\n",
       "      <td>-0.50</td>\n",
       "      <td>155.0</td>\n",
       "      <td>the eye keeps the lens</td>\n",
       "      <td>505.000000</td>\n",
       "      <td>23.81</td>\n",
       "      <td>-11.37</td>\n",
       "      <td>12.5</td>\n",
       "    </tr>\n",
       "    <tr>\n",
       "      <th>10</th>\n",
       "      <td>15</td>\n",
       "      <td>78</td>\n",
       "      <td>F</td>\n",
       "      <td>glaucoma</td>\n",
       "      <td>1.50</td>\n",
       "      <td>-2.25</td>\n",
       "      <td>90.0</td>\n",
       "      <td>crystalline lens has been removed</td>\n",
       "      <td>543.000000</td>\n",
       "      <td>22.16</td>\n",
       "      <td>-12.52</td>\n",
       "      <td>16.0</td>\n",
       "    </tr>\n",
       "    <tr>\n",
       "      <th>11</th>\n",
       "      <td>16</td>\n",
       "      <td>69</td>\n",
       "      <td>M</td>\n",
       "      <td>glaucoma</td>\n",
       "      <td>1.50</td>\n",
       "      <td>-0.50</td>\n",
       "      <td>100.0</td>\n",
       "      <td>the eye keeps the lens</td>\n",
       "      <td>568.000000</td>\n",
       "      <td>23.62</td>\n",
       "      <td>-3.27</td>\n",
       "      <td>20.0</td>\n",
       "    </tr>\n",
       "    <tr>\n",
       "      <th>12</th>\n",
       "      <td>18</td>\n",
       "      <td>43</td>\n",
       "      <td>M</td>\n",
       "      <td>suspicious</td>\n",
       "      <td>-2.00</td>\n",
       "      <td>-0.75</td>\n",
       "      <td>97.0</td>\n",
       "      <td>the eye keeps the lens</td>\n",
       "      <td>575.000000</td>\n",
       "      <td>24.66</td>\n",
       "      <td>-0.24</td>\n",
       "      <td>13.0</td>\n",
       "    </tr>\n",
       "    <tr>\n",
       "      <th>13</th>\n",
       "      <td>19</td>\n",
       "      <td>87</td>\n",
       "      <td>F</td>\n",
       "      <td>glaucoma</td>\n",
       "      <td>1.00</td>\n",
       "      <td>-0.50</td>\n",
       "      <td>120.0</td>\n",
       "      <td>crystalline lens has been removed</td>\n",
       "      <td>538.612069</td>\n",
       "      <td>26.00</td>\n",
       "      <td>-6.14</td>\n",
       "      <td>17.0</td>\n",
       "    </tr>\n",
       "    <tr>\n",
       "      <th>14</th>\n",
       "      <td>20</td>\n",
       "      <td>87</td>\n",
       "      <td>F</td>\n",
       "      <td>glaucoma</td>\n",
       "      <td>0.50</td>\n",
       "      <td>-0.50</td>\n",
       "      <td>30.0</td>\n",
       "      <td>crystalline lens has been removed</td>\n",
       "      <td>538.612069</td>\n",
       "      <td>22.98</td>\n",
       "      <td>-3.03</td>\n",
       "      <td>13.0</td>\n",
       "    </tr>\n",
       "    <tr>\n",
       "      <th>15</th>\n",
       "      <td>21</td>\n",
       "      <td>62</td>\n",
       "      <td>M</td>\n",
       "      <td>glaucoma</td>\n",
       "      <td>NaN</td>\n",
       "      <td>-3.75</td>\n",
       "      <td>100.0</td>\n",
       "      <td>crystalline lens has been removed</td>\n",
       "      <td>494.000000</td>\n",
       "      <td>24.23</td>\n",
       "      <td>-2.65</td>\n",
       "      <td>12.0</td>\n",
       "    </tr>\n",
       "    <tr>\n",
       "      <th>16</th>\n",
       "      <td>23</td>\n",
       "      <td>81</td>\n",
       "      <td>F</td>\n",
       "      <td>glaucoma</td>\n",
       "      <td>1.00</td>\n",
       "      <td>-3.00</td>\n",
       "      <td>87.0</td>\n",
       "      <td>crystalline lens has been removed</td>\n",
       "      <td>534.000000</td>\n",
       "      <td>21.43</td>\n",
       "      <td>-30.15</td>\n",
       "      <td>21.0</td>\n",
       "    </tr>\n",
       "    <tr>\n",
       "      <th>17</th>\n",
       "      <td>24</td>\n",
       "      <td>53</td>\n",
       "      <td>M</td>\n",
       "      <td>suspicious</td>\n",
       "      <td>1.25</td>\n",
       "      <td>-0.75</td>\n",
       "      <td>80.0</td>\n",
       "      <td>crystalline lens has been removed</td>\n",
       "      <td>526.000000</td>\n",
       "      <td>24.57</td>\n",
       "      <td>1.55</td>\n",
       "      <td>18.5</td>\n",
       "    </tr>\n",
       "    <tr>\n",
       "      <th>18</th>\n",
       "      <td>25</td>\n",
       "      <td>62</td>\n",
       "      <td>F</td>\n",
       "      <td>glaucoma</td>\n",
       "      <td>3.00</td>\n",
       "      <td>-1.00</td>\n",
       "      <td>65.0</td>\n",
       "      <td>crystalline lens has been removed</td>\n",
       "      <td>607.000000</td>\n",
       "      <td>22.69</td>\n",
       "      <td>-3.06</td>\n",
       "      <td>15.5</td>\n",
       "    </tr>\n",
       "    <tr>\n",
       "      <th>19</th>\n",
       "      <td>26</td>\n",
       "      <td>61</td>\n",
       "      <td>M</td>\n",
       "      <td>glaucoma</td>\n",
       "      <td>1.00</td>\n",
       "      <td>-1.25</td>\n",
       "      <td>100.0</td>\n",
       "      <td>crystalline lens has been removed</td>\n",
       "      <td>529.000000</td>\n",
       "      <td>23.27</td>\n",
       "      <td>0.73</td>\n",
       "      <td>18.0</td>\n",
       "    </tr>\n",
       "  </tbody>\n",
       "</table>\n",
       "</div>"
      ],
      "text/plain": [
       "       Age Gender   Diagnosis Refractive_Defect                        \\\n",
       "    ID Age Gender   Diagnosis         dioptre_1 dioptre_2 astigmatism   \n",
       "0    2  47      M  suspicious              0.75     -1.75        90.0   \n",
       "1    4  58      F    glaucoma              1.50     -1.75        85.0   \n",
       "2    5  89      F    glaucoma             -0.75     -1.25       101.0   \n",
       "3    6  69      M  suspicious              1.00     -1.50        95.0   \n",
       "4    7  22      F  suspicious             -0.25      0.00         0.0   \n",
       "5    8  67      F  suspicious               NaN     -0.75        20.0   \n",
       "6    9  79      M  suspicious              0.75     -1.50        95.0   \n",
       "7   10  72      F    glaucoma              2.25     -1.50       105.0   \n",
       "8   13  70      F    glaucoma              3.00     -1.00        65.0   \n",
       "9   14  60      F    glaucoma              0.25     -0.50       155.0   \n",
       "10  15  78      F    glaucoma              1.50     -2.25        90.0   \n",
       "11  16  69      M    glaucoma              1.50     -0.50       100.0   \n",
       "12  18  43      M  suspicious             -2.00     -0.75        97.0   \n",
       "13  19  87      F    glaucoma              1.00     -0.50       120.0   \n",
       "14  20  87      F    glaucoma              0.50     -0.50        30.0   \n",
       "15  21  62      M    glaucoma               NaN     -3.75       100.0   \n",
       "16  23  81      F    glaucoma              1.00     -3.00        87.0   \n",
       "17  24  53      M  suspicious              1.25     -0.75        80.0   \n",
       "18  25  62      F    glaucoma              3.00     -1.00        65.0   \n",
       "19  26  61      M    glaucoma              1.00     -1.25       100.0   \n",
       "\n",
       "                   Phakic/Pseudophakic  Pachymetry Axial_Length  VF_MD   IOP  \n",
       "                   Phakic/Pseudophakic  Pachymetry Axial_Length  VF_MD   IOP  \n",
       "0               the eye keeps the lens  586.000000        23.64  -0.07  21.0  \n",
       "1               the eye keeps the lens  501.000000        23.06  -3.26  19.0  \n",
       "2   crystalline lens has been removed   565.000000        23.81 -14.98  13.5  \n",
       "3               the eye keeps the lens  612.000000        26.25  -2.07  22.0  \n",
       "4               the eye keeps the lens  538.612069        23.39  -2.30  14.0  \n",
       "5               the eye keeps the lens  526.000000        22.92  -0.28  15.0  \n",
       "6               the eye keeps the lens  511.000000        26.00  -3.69  21.5  \n",
       "7               the eye keeps the lens  590.000000        22.46 -12.58  16.0  \n",
       "8               the eye keeps the lens  500.000000        22.75 -14.24  15.0  \n",
       "9               the eye keeps the lens  505.000000        23.81 -11.37  12.5  \n",
       "10  crystalline lens has been removed   543.000000        22.16 -12.52  16.0  \n",
       "11              the eye keeps the lens  568.000000        23.62  -3.27  20.0  \n",
       "12              the eye keeps the lens  575.000000        24.66  -0.24  13.0  \n",
       "13  crystalline lens has been removed   538.612069        26.00  -6.14  17.0  \n",
       "14  crystalline lens has been removed   538.612069        22.98  -3.03  13.0  \n",
       "15  crystalline lens has been removed   494.000000        24.23  -2.65  12.0  \n",
       "16  crystalline lens has been removed   534.000000        21.43 -30.15  21.0  \n",
       "17  crystalline lens has been removed   526.000000        24.57   1.55  18.5  \n",
       "18  crystalline lens has been removed   607.000000        22.69  -3.06  15.5  \n",
       "19  crystalline lens has been removed   529.000000        23.27   0.73  18.0  "
      ]
     },
     "execution_count": 825,
     "metadata": {},
     "output_type": "execute_result"
    }
   ],
   "source": [
    "# Fill missing values in Pneumatic with Perkins\n",
    "od[('IOP', 'Pneumatic')].fillna(od[('IOP', 'Perkins')], inplace=True)\n",
    "\n",
    "# Fill missing values in Perkins with Pneumatic\n",
    "od[('IOP', 'Perkins')].fillna(od[('IOP', 'Pneumatic')], inplace=True)\n",
    "\n",
    "# Take the average of Pneumatic and Perkins to get the combined IOP column\n",
    "od[('IOP', 'IOP')] = (od[('IOP', 'Pneumatic')] + od[('IOP', 'Perkins')]) / 2\n",
    "\n",
    "# Drop the individual Pneumatic and Perkins columns\n",
    "od.drop([('IOP', 'Pneumatic'), ('IOP', 'Perkins')], axis=1, inplace=True)\n",
    "od.head(20)"
   ]
  },
  {
   "cell_type": "code",
   "execution_count": 826,
   "metadata": {},
   "outputs": [
    {
     "data": {
      "text/html": [
       "<div>\n",
       "<style scoped>\n",
       "    .dataframe tbody tr th:only-of-type {\n",
       "        vertical-align: middle;\n",
       "    }\n",
       "\n",
       "    .dataframe tbody tr th {\n",
       "        vertical-align: top;\n",
       "    }\n",
       "\n",
       "    .dataframe thead tr th {\n",
       "        text-align: left;\n",
       "    }\n",
       "</style>\n",
       "<table border=\"1\" class=\"dataframe\">\n",
       "  <thead>\n",
       "    <tr>\n",
       "      <th></th>\n",
       "      <th>Unnamed: 0_level_0</th>\n",
       "      <th>Age</th>\n",
       "      <th>Gender</th>\n",
       "      <th>Diagnosis</th>\n",
       "      <th colspan=\"3\" halign=\"left\">Refractive_Defect</th>\n",
       "      <th>Phakic/Pseudophakic</th>\n",
       "      <th>Pachymetry</th>\n",
       "      <th>Axial_Length</th>\n",
       "      <th>VF_MD</th>\n",
       "      <th>IOP</th>\n",
       "    </tr>\n",
       "    <tr>\n",
       "      <th></th>\n",
       "      <th>ID</th>\n",
       "      <th>Age</th>\n",
       "      <th>Gender</th>\n",
       "      <th>Diagnosis</th>\n",
       "      <th>dioptre_1</th>\n",
       "      <th>dioptre_2</th>\n",
       "      <th>astigmatism</th>\n",
       "      <th>Phakic/Pseudophakic</th>\n",
       "      <th>Pachymetry</th>\n",
       "      <th>Axial_Length</th>\n",
       "      <th>VF_MD</th>\n",
       "      <th>IOP</th>\n",
       "    </tr>\n",
       "  </thead>\n",
       "  <tbody>\n",
       "    <tr>\n",
       "      <th>0</th>\n",
       "      <td>2</td>\n",
       "      <td>47</td>\n",
       "      <td>M</td>\n",
       "      <td>suspicious</td>\n",
       "      <td>-0.50</td>\n",
       "      <td>-1.50</td>\n",
       "      <td>88.0</td>\n",
       "      <td>the eye keeps the lens</td>\n",
       "      <td>603.00000</td>\n",
       "      <td>23.77</td>\n",
       "      <td>0.17</td>\n",
       "      <td>20.0</td>\n",
       "    </tr>\n",
       "    <tr>\n",
       "      <th>1</th>\n",
       "      <td>4</td>\n",
       "      <td>58</td>\n",
       "      <td>F</td>\n",
       "      <td>glaucoma</td>\n",
       "      <td>1.50</td>\n",
       "      <td>-2.50</td>\n",
       "      <td>85.0</td>\n",
       "      <td>crystalline lens has been removed</td>\n",
       "      <td>511.00000</td>\n",
       "      <td>22.96</td>\n",
       "      <td>-6.77</td>\n",
       "      <td>19.0</td>\n",
       "    </tr>\n",
       "    <tr>\n",
       "      <th>2</th>\n",
       "      <td>5</td>\n",
       "      <td>89</td>\n",
       "      <td>F</td>\n",
       "      <td>glaucoma</td>\n",
       "      <td>-0.50</td>\n",
       "      <td>-2.00</td>\n",
       "      <td>100.0</td>\n",
       "      <td>crystalline lens has been removed</td>\n",
       "      <td>575.00000</td>\n",
       "      <td>24.33</td>\n",
       "      <td>-7.44</td>\n",
       "      <td>17.0</td>\n",
       "    </tr>\n",
       "    <tr>\n",
       "      <th>3</th>\n",
       "      <td>6</td>\n",
       "      <td>69</td>\n",
       "      <td>M</td>\n",
       "      <td>suspicious</td>\n",
       "      <td>1.00</td>\n",
       "      <td>-1.50</td>\n",
       "      <td>85.0</td>\n",
       "      <td>the eye keeps the lens</td>\n",
       "      <td>593.00000</td>\n",
       "      <td>26.21</td>\n",
       "      <td>-3.31</td>\n",
       "      <td>22.0</td>\n",
       "    </tr>\n",
       "    <tr>\n",
       "      <th>4</th>\n",
       "      <td>7</td>\n",
       "      <td>22</td>\n",
       "      <td>F</td>\n",
       "      <td>suspicious</td>\n",
       "      <td>-0.25</td>\n",
       "      <td>-0.50</td>\n",
       "      <td>0.0</td>\n",
       "      <td>the eye keeps the lens</td>\n",
       "      <td>534.87013</td>\n",
       "      <td>23.35</td>\n",
       "      <td>-2.61</td>\n",
       "      <td>13.0</td>\n",
       "    </tr>\n",
       "    <tr>\n",
       "      <th>5</th>\n",
       "      <td>8</td>\n",
       "      <td>67</td>\n",
       "      <td>F</td>\n",
       "      <td>suspicious</td>\n",
       "      <td>NaN</td>\n",
       "      <td>-0.25</td>\n",
       "      <td>145.0</td>\n",
       "      <td>the eye keeps the lens</td>\n",
       "      <td>527.00000</td>\n",
       "      <td>22.84</td>\n",
       "      <td>0.97</td>\n",
       "      <td>15.0</td>\n",
       "    </tr>\n",
       "    <tr>\n",
       "      <th>6</th>\n",
       "      <td>9</td>\n",
       "      <td>79</td>\n",
       "      <td>M</td>\n",
       "      <td>suspicious</td>\n",
       "      <td>0.25</td>\n",
       "      <td>-0.75</td>\n",
       "      <td>75.0</td>\n",
       "      <td>the eye keeps the lens</td>\n",
       "      <td>523.00000</td>\n",
       "      <td>26.00</td>\n",
       "      <td>-3.37</td>\n",
       "      <td>23.5</td>\n",
       "    </tr>\n",
       "    <tr>\n",
       "      <th>7</th>\n",
       "      <td>10</td>\n",
       "      <td>72</td>\n",
       "      <td>F</td>\n",
       "      <td>glaucoma</td>\n",
       "      <td>2.50</td>\n",
       "      <td>-1.00</td>\n",
       "      <td>70.0</td>\n",
       "      <td>the eye keeps the lens</td>\n",
       "      <td>600.00000</td>\n",
       "      <td>22.34</td>\n",
       "      <td>-11.44</td>\n",
       "      <td>18.0</td>\n",
       "    </tr>\n",
       "    <tr>\n",
       "      <th>8</th>\n",
       "      <td>13</td>\n",
       "      <td>70</td>\n",
       "      <td>F</td>\n",
       "      <td>glaucoma</td>\n",
       "      <td>2.25</td>\n",
       "      <td>-1.75</td>\n",
       "      <td>98.0</td>\n",
       "      <td>the eye keeps the lens</td>\n",
       "      <td>495.00000</td>\n",
       "      <td>22.85</td>\n",
       "      <td>-7.75</td>\n",
       "      <td>15.5</td>\n",
       "    </tr>\n",
       "    <tr>\n",
       "      <th>9</th>\n",
       "      <td>14</td>\n",
       "      <td>60</td>\n",
       "      <td>F</td>\n",
       "      <td>glaucoma</td>\n",
       "      <td>0.25</td>\n",
       "      <td>-1.50</td>\n",
       "      <td>160.0</td>\n",
       "      <td>the eye keeps the lens</td>\n",
       "      <td>496.00000</td>\n",
       "      <td>24.17</td>\n",
       "      <td>-4.65</td>\n",
       "      <td>20.5</td>\n",
       "    </tr>\n",
       "    <tr>\n",
       "      <th>10</th>\n",
       "      <td>15</td>\n",
       "      <td>78</td>\n",
       "      <td>F</td>\n",
       "      <td>glaucoma</td>\n",
       "      <td>1.00</td>\n",
       "      <td>-2.25</td>\n",
       "      <td>90.0</td>\n",
       "      <td>crystalline lens has been removed</td>\n",
       "      <td>553.00000</td>\n",
       "      <td>22.11</td>\n",
       "      <td>-27.02</td>\n",
       "      <td>16.5</td>\n",
       "    </tr>\n",
       "    <tr>\n",
       "      <th>11</th>\n",
       "      <td>16</td>\n",
       "      <td>69</td>\n",
       "      <td>M</td>\n",
       "      <td>glaucoma</td>\n",
       "      <td>1.50</td>\n",
       "      <td>-0.50</td>\n",
       "      <td>5.0</td>\n",
       "      <td>the eye keeps the lens</td>\n",
       "      <td>568.00000</td>\n",
       "      <td>23.75</td>\n",
       "      <td>-0.97</td>\n",
       "      <td>19.0</td>\n",
       "    </tr>\n",
       "    <tr>\n",
       "      <th>12</th>\n",
       "      <td>18</td>\n",
       "      <td>43</td>\n",
       "      <td>M</td>\n",
       "      <td>suspicious</td>\n",
       "      <td>-3.00</td>\n",
       "      <td>-1.00</td>\n",
       "      <td>175.0</td>\n",
       "      <td>the eye keeps the lens</td>\n",
       "      <td>557.00000</td>\n",
       "      <td>25.27</td>\n",
       "      <td>-1.60</td>\n",
       "      <td>17.0</td>\n",
       "    </tr>\n",
       "    <tr>\n",
       "      <th>13</th>\n",
       "      <td>19</td>\n",
       "      <td>87</td>\n",
       "      <td>F</td>\n",
       "      <td>glaucoma</td>\n",
       "      <td>1.25</td>\n",
       "      <td>-2.50</td>\n",
       "      <td>100.0</td>\n",
       "      <td>crystalline lens has been removed</td>\n",
       "      <td>534.87013</td>\n",
       "      <td>26.00</td>\n",
       "      <td>-19.99</td>\n",
       "      <td>14.0</td>\n",
       "    </tr>\n",
       "    <tr>\n",
       "      <th>14</th>\n",
       "      <td>20</td>\n",
       "      <td>87</td>\n",
       "      <td>F</td>\n",
       "      <td>glaucoma</td>\n",
       "      <td>0.50</td>\n",
       "      <td>-0.50</td>\n",
       "      <td>110.0</td>\n",
       "      <td>crystalline lens has been removed</td>\n",
       "      <td>534.87013</td>\n",
       "      <td>23.02</td>\n",
       "      <td>-4.74</td>\n",
       "      <td>15.0</td>\n",
       "    </tr>\n",
       "    <tr>\n",
       "      <th>15</th>\n",
       "      <td>21</td>\n",
       "      <td>62</td>\n",
       "      <td>M</td>\n",
       "      <td>glaucoma</td>\n",
       "      <td>0.75</td>\n",
       "      <td>-2.75</td>\n",
       "      <td>80.0</td>\n",
       "      <td>crystalline lens has been removed</td>\n",
       "      <td>486.00000</td>\n",
       "      <td>23.89</td>\n",
       "      <td>-0.14</td>\n",
       "      <td>12.0</td>\n",
       "    </tr>\n",
       "    <tr>\n",
       "      <th>16</th>\n",
       "      <td>23</td>\n",
       "      <td>81</td>\n",
       "      <td>F</td>\n",
       "      <td>glaucoma</td>\n",
       "      <td>-0.50</td>\n",
       "      <td>-2.00</td>\n",
       "      <td>85.0</td>\n",
       "      <td>crystalline lens has been removed</td>\n",
       "      <td>536.00000</td>\n",
       "      <td>21.46</td>\n",
       "      <td>-30.47</td>\n",
       "      <td>16.0</td>\n",
       "    </tr>\n",
       "    <tr>\n",
       "      <th>17</th>\n",
       "      <td>24</td>\n",
       "      <td>53</td>\n",
       "      <td>M</td>\n",
       "      <td>suspicious</td>\n",
       "      <td>0.75</td>\n",
       "      <td>-0.75</td>\n",
       "      <td>90.0</td>\n",
       "      <td>crystalline lens has been removed</td>\n",
       "      <td>533.00000</td>\n",
       "      <td>24.60</td>\n",
       "      <td>0.54</td>\n",
       "      <td>18.0</td>\n",
       "    </tr>\n",
       "    <tr>\n",
       "      <th>18</th>\n",
       "      <td>25</td>\n",
       "      <td>62</td>\n",
       "      <td>F</td>\n",
       "      <td>glaucoma</td>\n",
       "      <td>3.25</td>\n",
       "      <td>-0.75</td>\n",
       "      <td>70.0</td>\n",
       "      <td>crystalline lens has been removed</td>\n",
       "      <td>615.00000</td>\n",
       "      <td>22.09</td>\n",
       "      <td>-23.31</td>\n",
       "      <td>18.0</td>\n",
       "    </tr>\n",
       "    <tr>\n",
       "      <th>19</th>\n",
       "      <td>26</td>\n",
       "      <td>61</td>\n",
       "      <td>M</td>\n",
       "      <td>glaucoma</td>\n",
       "      <td>1.00</td>\n",
       "      <td>-1.50</td>\n",
       "      <td>75.0</td>\n",
       "      <td>crystalline lens has been removed</td>\n",
       "      <td>525.00000</td>\n",
       "      <td>23.42</td>\n",
       "      <td>-0.21</td>\n",
       "      <td>17.0</td>\n",
       "    </tr>\n",
       "  </tbody>\n",
       "</table>\n",
       "</div>"
      ],
      "text/plain": [
       "   Unnamed: 0_level_0 Age Gender   Diagnosis Refractive_Defect            \\\n",
       "                   ID Age Gender   Diagnosis         dioptre_1 dioptre_2   \n",
       "0                   2  47      M  suspicious             -0.50     -1.50   \n",
       "1                   4  58      F    glaucoma              1.50     -2.50   \n",
       "2                   5  89      F    glaucoma             -0.50     -2.00   \n",
       "3                   6  69      M  suspicious              1.00     -1.50   \n",
       "4                   7  22      F  suspicious             -0.25     -0.50   \n",
       "5                   8  67      F  suspicious               NaN     -0.25   \n",
       "6                   9  79      M  suspicious              0.25     -0.75   \n",
       "7                  10  72      F    glaucoma              2.50     -1.00   \n",
       "8                  13  70      F    glaucoma              2.25     -1.75   \n",
       "9                  14  60      F    glaucoma              0.25     -1.50   \n",
       "10                 15  78      F    glaucoma              1.00     -2.25   \n",
       "11                 16  69      M    glaucoma              1.50     -0.50   \n",
       "12                 18  43      M  suspicious             -3.00     -1.00   \n",
       "13                 19  87      F    glaucoma              1.25     -2.50   \n",
       "14                 20  87      F    glaucoma              0.50     -0.50   \n",
       "15                 21  62      M    glaucoma              0.75     -2.75   \n",
       "16                 23  81      F    glaucoma             -0.50     -2.00   \n",
       "17                 24  53      M  suspicious              0.75     -0.75   \n",
       "18                 25  62      F    glaucoma              3.25     -0.75   \n",
       "19                 26  61      M    glaucoma              1.00     -1.50   \n",
       "\n",
       "                               Phakic/Pseudophakic Pachymetry Axial_Length  \\\n",
       "   astigmatism                 Phakic/Pseudophakic Pachymetry Axial_Length   \n",
       "0         88.0              the eye keeps the lens  603.00000        23.77   \n",
       "1         85.0  crystalline lens has been removed   511.00000        22.96   \n",
       "2        100.0  crystalline lens has been removed   575.00000        24.33   \n",
       "3         85.0              the eye keeps the lens  593.00000        26.21   \n",
       "4          0.0              the eye keeps the lens  534.87013        23.35   \n",
       "5        145.0              the eye keeps the lens  527.00000        22.84   \n",
       "6         75.0              the eye keeps the lens  523.00000        26.00   \n",
       "7         70.0              the eye keeps the lens  600.00000        22.34   \n",
       "8         98.0              the eye keeps the lens  495.00000        22.85   \n",
       "9        160.0              the eye keeps the lens  496.00000        24.17   \n",
       "10        90.0  crystalline lens has been removed   553.00000        22.11   \n",
       "11         5.0              the eye keeps the lens  568.00000        23.75   \n",
       "12       175.0              the eye keeps the lens  557.00000        25.27   \n",
       "13       100.0  crystalline lens has been removed   534.87013        26.00   \n",
       "14       110.0  crystalline lens has been removed   534.87013        23.02   \n",
       "15        80.0  crystalline lens has been removed   486.00000        23.89   \n",
       "16        85.0  crystalline lens has been removed   536.00000        21.46   \n",
       "17        90.0  crystalline lens has been removed   533.00000        24.60   \n",
       "18        70.0  crystalline lens has been removed   615.00000        22.09   \n",
       "19        75.0  crystalline lens has been removed   525.00000        23.42   \n",
       "\n",
       "    VF_MD   IOP  \n",
       "    VF_MD   IOP  \n",
       "0    0.17  20.0  \n",
       "1   -6.77  19.0  \n",
       "2   -7.44  17.0  \n",
       "3   -3.31  22.0  \n",
       "4   -2.61  13.0  \n",
       "5    0.97  15.0  \n",
       "6   -3.37  23.5  \n",
       "7  -11.44  18.0  \n",
       "8   -7.75  15.5  \n",
       "9   -4.65  20.5  \n",
       "10 -27.02  16.5  \n",
       "11  -0.97  19.0  \n",
       "12  -1.60  17.0  \n",
       "13 -19.99  14.0  \n",
       "14  -4.74  15.0  \n",
       "15  -0.14  12.0  \n",
       "16 -30.47  16.0  \n",
       "17   0.54  18.0  \n",
       "18 -23.31  18.0  \n",
       "19  -0.21  17.0  "
      ]
     },
     "execution_count": 826,
     "metadata": {},
     "output_type": "execute_result"
    }
   ],
   "source": [
    "# Fill missing values in Pneumatic with Perkins\n",
    "os[('IOP', 'Pneumatic')].fillna(os[('IOP', 'Perkins')], inplace=True)\n",
    "\n",
    "# Fill missing values in Perkins with Pneumatic\n",
    "os[('IOP', 'Perkins')].fillna(os[('IOP', 'Pneumatic')], inplace=True)\n",
    "\n",
    "# Take the average of Pneumatic and Perkins to get the combined IOP column\n",
    "os[('IOP', 'IOP')] = (os[('IOP', 'Pneumatic')] + os[('IOP', 'Perkins')]) / 2\n",
    "\n",
    "# Drop the individual Pneumatic and Perkins columns\n",
    "os.drop([('IOP', 'Pneumatic'), ('IOP', 'Perkins')], axis=1, inplace=True)\n",
    "os.head(20)"
   ]
  },
  {
   "attachments": {},
   "cell_type": "markdown",
   "metadata": {},
   "source": [
    "We can fix the remaining missing values in the newly constructed 'IOP' column by filling with mean values."
   ]
  },
  {
   "cell_type": "code",
   "execution_count": 827,
   "metadata": {},
   "outputs": [],
   "source": [
    "mean_value_od = od[('IOP', 'IOP')].mean()\n",
    "od.loc[od[('IOP', 'IOP')].isna(), ('IOP', 'IOP')] = mean_value_od\n",
    "\n",
    "mean_value_os = os[('IOP', 'IOP')].mean()\n",
    "os.loc[os[('IOP', 'IOP')].isna(), ('IOP', 'IOP')] = mean_value_os"
   ]
  },
  {
   "cell_type": "code",
   "execution_count": 828,
   "metadata": {},
   "outputs": [
    {
     "name": "stdout",
     "output_type": "stream",
     "text": [
      "                     ID                      0\n",
      "Age                  Age                     0\n",
      "Gender               Gender                  0\n",
      "Diagnosis            Diagnosis               0\n",
      "Refractive_Defect    dioptre_1              15\n",
      "                     dioptre_2               3\n",
      "                     astigmatism             4\n",
      "Phakic/Pseudophakic  Phakic/Pseudophakic     0\n",
      "Pachymetry           Pachymetry              0\n",
      "Axial_Length         Axial_Length            0\n",
      "VF_MD                VF_MD                   0\n",
      "IOP                  IOP                     0\n",
      "dtype: int64\n"
     ]
    },
    {
     "data": {
      "text/plain": [
       "(239, 12)"
      ]
     },
     "execution_count": 828,
     "metadata": {},
     "output_type": "execute_result"
    }
   ],
   "source": [
    "print(od.isnull().sum())\n",
    "od.shape"
   ]
  },
  {
   "attachments": {},
   "cell_type": "markdown",
   "metadata": {},
   "source": [
    "Let's check any remaining missing values."
   ]
  },
  {
   "cell_type": "code",
   "execution_count": 829,
   "metadata": {},
   "outputs": [
    {
     "name": "stdout",
     "output_type": "stream",
     "text": [
      "                     ID                      0\n",
      "Age                  Age                     0\n",
      "Gender               Gender                  0\n",
      "Diagnosis            Diagnosis               0\n",
      "Refractive_Defect    dioptre_1              15\n",
      "                     dioptre_2               3\n",
      "                     astigmatism             4\n",
      "Phakic/Pseudophakic  Phakic/Pseudophakic     0\n",
      "Pachymetry           Pachymetry              0\n",
      "Axial_Length         Axial_Length            0\n",
      "VF_MD                VF_MD                   0\n",
      "IOP                  IOP                     0\n",
      "dtype: int64\n",
      "Unnamed: 0_level_0   ID                      0\n",
      "Age                  Age                     0\n",
      "Gender               Gender                  0\n",
      "Diagnosis            Diagnosis               0\n",
      "Refractive_Defect    dioptre_1              11\n",
      "                     dioptre_2               5\n",
      "                     astigmatism             5\n",
      "Phakic/Pseudophakic  Phakic/Pseudophakic     0\n",
      "Pachymetry           Pachymetry              0\n",
      "Axial_Length         Axial_Length            0\n",
      "VF_MD                VF_MD                   0\n",
      "IOP                  IOP                     0\n",
      "dtype: int64\n",
      "(239, 12) (238, 12)\n"
     ]
    }
   ],
   "source": [
    "\n",
    "print(od.isnull().sum())\n",
    "print(os.isnull().sum())\n",
    "print(od.shape,os.shape)"
   ]
  },
  {
   "attachments": {},
   "cell_type": "markdown",
   "metadata": {},
   "source": [
    "Since the 'Refractive_Defect' attributes are important for correct diagnosis, and the missing value rows are low in number compared to the whole dataset, we can simply remove the missing value rows."
   ]
  },
  {
   "cell_type": "code",
   "execution_count": 830,
   "metadata": {},
   "outputs": [],
   "source": [
    "od = od.dropna(subset=[('Refractive_Defect','dioptre_1'),('Refractive_Defect','dioptre_2'),('Refractive_Defect','astigmatism')])\n",
    "os = os.dropna(subset=[('Refractive_Defect','dioptre_1'),('Refractive_Defect','dioptre_2'),('Refractive_Defect','astigmatism')])"
   ]
  },
  {
   "cell_type": "code",
   "execution_count": 831,
   "metadata": {},
   "outputs": [
    {
     "name": "stdout",
     "output_type": "stream",
     "text": [
      "                     ID                     0\n",
      "Age                  Age                    0\n",
      "Gender               Gender                 0\n",
      "Diagnosis            Diagnosis              0\n",
      "Refractive_Defect    dioptre_1              0\n",
      "                     dioptre_2              0\n",
      "                     astigmatism            0\n",
      "Phakic/Pseudophakic  Phakic/Pseudophakic    0\n",
      "Pachymetry           Pachymetry             0\n",
      "Axial_Length         Axial_Length           0\n",
      "VF_MD                VF_MD                  0\n",
      "IOP                  IOP                    0\n",
      "dtype: int64\n",
      "Unnamed: 0_level_0   ID                     0\n",
      "Age                  Age                    0\n",
      "Gender               Gender                 0\n",
      "Diagnosis            Diagnosis              0\n",
      "Refractive_Defect    dioptre_1              0\n",
      "                     dioptre_2              0\n",
      "                     astigmatism            0\n",
      "Phakic/Pseudophakic  Phakic/Pseudophakic    0\n",
      "Pachymetry           Pachymetry             0\n",
      "Axial_Length         Axial_Length           0\n",
      "VF_MD                VF_MD                  0\n",
      "IOP                  IOP                    0\n",
      "dtype: int64\n",
      "(222, 12) (224, 12)\n"
     ]
    }
   ],
   "source": [
    "print(od.isnull().sum())\n",
    "print(os.isnull().sum())\n",
    "print(od.shape,os.shape)"
   ]
  },
  {
   "attachments": {},
   "cell_type": "markdown",
   "metadata": {},
   "source": [
    "Hence we donot have any missing values, however, We have different number of rows for 'OD' and 'OS'. We will eliminate the IDs that are not present in both dataframes."
   ]
  },
  {
   "cell_type": "code",
   "execution_count": 832,
   "metadata": {},
   "outputs": [],
   "source": [
    "# Get the list of IDs present in both dataframes\n",
    "common_ids = list(set(od[('','ID')]).intersection(set(os[('Unnamed: 0_level_0','ID')])))\n",
    "\n",
    "# Remove the IDs from od that are not present in os\n",
    "od = od[od[('','ID')].isin(common_ids)]\n",
    "\n",
    "# Remove the IDs from os that are not present in od\n",
    "os = os[os[('Unnamed: 0_level_0','ID')].isin(common_ids)]"
   ]
  },
  {
   "cell_type": "code",
   "execution_count": 833,
   "metadata": {},
   "outputs": [
    {
     "name": "stdout",
     "output_type": "stream",
     "text": [
      "(214, 12) (214, 12)\n"
     ]
    }
   ],
   "source": [
    "print(od.shape,os.shape)"
   ]
  },
  {
   "attachments": {},
   "cell_type": "markdown",
   "metadata": {},
   "source": [
    "Hence, as we can see we have a consistent data set after data cleaning."
   ]
  },
  {
   "cell_type": "code",
   "execution_count": 834,
   "metadata": {},
   "outputs": [],
   "source": [
    "od.to_excel('od_cleaned.xlsx', index=True)\n",
    "os.to_excel('os_cleaned.xlsx', index=True)"
   ]
  },
  {
   "attachments": {},
   "cell_type": "markdown",
   "metadata": {},
   "source": [
    "Finally, we can save the cleaned od and os datasets. This concludes Task 2."
   ]
  },
  {
   "attachments": {},
   "cell_type": "markdown",
   "metadata": {},
   "source": [
    "## Task 3: Difference between Healthy and Glaucomatous patients"
   ]
  },
  {
   "cell_type": "code",
   "execution_count": 835,
   "metadata": {},
   "outputs": [],
   "source": [
    "# Read in the cleaned dataframes\n",
    "od_cleaned = pd.read_excel('od_cleaned.xlsx')\n",
    "os_cleaned = pd.read_excel('os_cleaned.xlsx')"
   ]
  },
  {
   "cell_type": "code",
   "execution_count": 836,
   "metadata": {},
   "outputs": [
    {
     "data": {
      "text/plain": [
       "Diagnosis \n",
       "healthy       152\n",
       "glaucoma       35\n",
       "suspicious     27\n",
       "dtype: int64"
      ]
     },
     "execution_count": 836,
     "metadata": {},
     "output_type": "execute_result"
    }
   ],
   "source": [
    "od['Diagnosis'].value_counts()"
   ]
  },
  {
   "cell_type": "code",
   "execution_count": 837,
   "metadata": {},
   "outputs": [],
   "source": [
    "# Create two separate dataframes for healthy and glaucomatous patients\n",
    "od_healthy = od_cleaned[od_cleaned['Diagnosis'] == 'healthy']\n",
    "od_glaucoma = od_cleaned[od_cleaned['Diagnosis'] == 'glaucoma']\n",
    "\n",
    "os_healthy = os_cleaned[os_cleaned['Diagnosis'] == 'healthy']\n",
    "os_glaucoma = os_cleaned[os_cleaned['Diagnosis'] == 'glaucoma']"
   ]
  },
  {
   "attachments": {},
   "cell_type": "markdown",
   "metadata": {},
   "source": [
    "Plot histograms of the distribution of age for healthy and glaucomatous patients:"
   ]
  },
  {
   "cell_type": "code",
   "execution_count": 838,
   "metadata": {},
   "outputs": [
    {
     "data": {
      "image/png": "[encoded data removed]",
      "text/plain": [
       "<Figure size 720x576 with 4 Axes>"
      ]
     },
     "metadata": {},
     "output_type": "display_data"
    }
   ],
   "source": [
    "fig, axs = plt.subplots(2, 2, figsize=(10, 8))\n",
    "fig.suptitle('Age vs Healthy/Glaucoma Patients', fontsize=16)\n",
    "axs[0, 0].hist(od_healthy['Age'], bins=20)\n",
    "axs[0, 0].set_title('Healthy - OD')\n",
    "axs[0, 1].hist(os_healthy['Age'], bins=20)\n",
    "axs[0, 1].set_title('Healthy - OS')\n",
    "axs[1, 0].hist(od_glaucoma['Age'], bins=20)\n",
    "axs[1, 0].set_title('Glaucoma - OD')\n",
    "axs[1, 1].hist(os_glaucoma['Age'], bins=20)\n",
    "axs[1, 1].set_title('Glaucoma - OS')\n",
    "plt.show()"
   ]
  },
  {
   "attachments": {},
   "cell_type": "markdown",
   "metadata": {},
   "source": [
    "Plot boxplots of the IOP values for healthy and glaucomatous patients:"
   ]
  },
  {
   "cell_type": "code",
   "execution_count": 839,
   "metadata": {},
   "outputs": [
    {
     "data": {
      "image/png": "[encoded data removed]",
      "text/plain": [
       "<Figure size 720x576 with 4 Axes>"
      ]
     },
     "metadata": {},
     "output_type": "display_data"
    }
   ],
   "source": [
    "fig, axs = plt.subplots(2, 2, figsize=(10, 8))\n",
    "fig.suptitle('IOP vs Healthy/Glaucoma Patients', fontsize=16)\n",
    "axs[0, 0].boxplot(od_healthy['IOP'], vert=False)\n",
    "axs[0, 0].set_title('Healthy - OD')\n",
    "axs[0, 1].boxplot(os_healthy['IOP'], vert=False)\n",
    "axs[0, 1].set_title('Healthy - OS')\n",
    "axs[1, 0].boxplot(od_glaucoma['IOP'], vert=False)\n",
    "axs[1, 0].set_title('Glaucoma - OD')\n",
    "axs[1, 1].boxplot(os_glaucoma['IOP'], vert=False)\n",
    "axs[1, 1].set_title('Glaucoma - OS')\n",
    "plt.show()"
   ]
  },
  {
   "attachments": {},
   "cell_type": "markdown",
   "metadata": {},
   "source": [
    "Swarmplots of the VF_MD values for healthy and glaucomatous patients:"
   ]
  },
  {
   "cell_type": "code",
   "execution_count": 840,
   "metadata": {},
   "outputs": [
    {
     "name": "stderr",
     "output_type": "stream",
     "text": [
      "C:\\Users\\Hp\\AppData\\Local\\Packages\\PythonSoftwareFoundation.Python.3.10_qbz5n2kfra8p0\\LocalCache\\local-packages\\Python310\\site-packages\\seaborn\\categorical.py:1296: UserWarning: 79.6% of the points cannot be placed; you may want to decrease the size of the markers or use stripplot.\n",
      "  warnings.warn(msg, UserWarning)\n"
     ]
    },
    {
     "data": {
      "image/png": "[encoded data removed]",
      "text/plain": [
       "<Figure size 864x432 with 1 Axes>"
      ]
     },
     "metadata": {},
     "output_type": "display_data"
    }
   ],
   "source": [
    "# Set the figure size\n",
    "plt.figure(figsize=(12, 6))\n",
    "\n",
    "# Plot the first swarm plot\n",
    "ax1 = sns.swarmplot(x='Diagnosis', y='VF_MD', data=od_cleaned)\n",
    "ax1.set_title('OD - VF_MD vs Diagnosis')\n",
    "\n",
    "# Show the plot\n",
    "plt.show()"
   ]
  },
  {
   "cell_type": "code",
   "execution_count": 841,
   "metadata": {},
   "outputs": [
    {
     "name": "stderr",
     "output_type": "stream",
     "text": [
      "C:\\Users\\Hp\\AppData\\Local\\Packages\\PythonSoftwareFoundation.Python.3.10_qbz5n2kfra8p0\\LocalCache\\local-packages\\Python310\\site-packages\\seaborn\\categorical.py:1296: UserWarning: 81.6% of the points cannot be placed; you may want to decrease the size of the markers or use stripplot.\n",
      "  warnings.warn(msg, UserWarning)\n"
     ]
    },
    {
     "data": {
      "image/png": "[encoded data removed]",
      "text/plain": [
       "<Figure size 864x432 with 1 Axes>"
      ]
     },
     "metadata": {},
     "output_type": "display_data"
    }
   ],
   "source": [
    "\n",
    "# Set the figure size\n",
    "plt.figure(figsize=(12, 6))\n",
    "# Plot the second swarm plot\n",
    "ax2 = sns.swarmplot(x='Diagnosis', y='VF_MD', data=os_cleaned)\n",
    "ax2.set_title('OS - VF_MD vs Diagnosis')\n",
    "\n",
    "# Show the plot\n",
    "plt.show()"
   ]
  },
  {
   "attachments": {},
   "cell_type": "markdown",
   "metadata": {},
   "source": [
    "Bar Chart of the Gender distribution for healthy and glaucomatous patients:"
   ]
  },
  {
   "cell_type": "code",
   "execution_count": 849,
   "metadata": {},
   "outputs": [
    {
     "data": {
      "image/png": "[encoded data removed]",
      "text/plain": [
       "<Figure size 576x432 with 1 Axes>"
      ]
     },
     "metadata": {},
     "output_type": "display_data"
    }
   ],
   "source": [
    "# Calculate the number of male and female patients in each group\n",
    "od_healthy_gender = od_cleaned[od_cleaned['Diagnosis'] == 'healthy']['Gender'].value_counts()\n",
    "os_healthy_gender = os_cleaned[os_cleaned['Diagnosis'] == 'healthy']['Gender'].value_counts()\n",
    "od_glaucoma_gender = od_cleaned[od_cleaned['Diagnosis'] == 'glaucoma']['Gender'].value_counts()\n",
    "os_glaucoma_gender = os_cleaned[os_cleaned['Diagnosis'] == 'glaucoma']['Gender'].value_counts()\n",
    "\n",
    "# Create a bar chart to compare the gender distribution between healthy and glaucoma patients\n",
    "labels = ['OD', 'OS']\n",
    "x = np.arange(len(labels))\n",
    "width = 0.35\n",
    "\n",
    "fig, ax = plt.subplots(figsize=(8, 6))\n",
    "rects1 = ax.bar(x - width/2, [od_healthy_gender['M'], os_healthy_gender['M']], width, label='Male H')\n",
    "rects2 = ax.bar(x + width/2, [od_healthy_gender['F'], os_healthy_gender['F']], width, label='Female H')\n",
    "rects1 = ax.bar(x - width/2, [od_glaucoma_gender['M'], od_glaucoma_gender['M']], width, label='Male G')\n",
    "rects2 = ax.bar(x + width/2, [od_glaucoma_gender['F'], od_glaucoma_gender['F']], width, label='Female G')\n",
    "\n",
    "# Add some text for labels, title and custom x-axis tick labels, etc.\n",
    "ax.set_ylabel('Count')\n",
    "ax.set_title('Gender Distribution')\n",
    "ax.set_xticks(x)\n",
    "ax.set_xticklabels(labels)\n",
    "ax.legend()\n",
    "\n",
    "# Display the chart\n",
    "plt.show()"
   ]
  },
  {
   "attachments": {},
   "cell_type": "markdown",
   "metadata": {},
   "source": [
    "Box Plot of the Axial Length vs healthy and glaucomatous patients:"
   ]
  },
  {
   "cell_type": "code",
   "execution_count": 843,
   "metadata": {},
   "outputs": [
    {
     "data": {
      "image/png": "[encoded data removed]",
      "text/plain": [
       "<Figure size 720x576 with 4 Axes>"
      ]
     },
     "metadata": {},
     "output_type": "display_data"
    }
   ],
   "source": [
    "fig, axs = plt.subplots(2, 2, figsize=(10, 8))\n",
    "fig.suptitle('Axial Length vs Healthy/Glaucoma Patients', fontsize=16)\n",
    "axs[0, 0].boxplot(od_healthy['Axial_Length'], vert=False)\n",
    "axs[0, 0].set_title('Healthy - OD')\n",
    "axs[0, 1].boxplot(os_healthy['Axial_Length'], vert=False)\n",
    "axs[0, 1].set_title('Healthy - OS')\n",
    "axs[1, 0].boxplot(od_glaucoma['Axial_Length'], vert=False)\n",
    "axs[1, 0].set_title('Glaucoma - OD')\n",
    "axs[1, 1].boxplot(os_glaucoma['Axial_Length'], vert=False)\n",
    "axs[1, 1].set_title('Glaucoma - OS')\n",
    "plt.show()"
   ]
  },
  {
   "attachments": {},
   "cell_type": "markdown",
   "metadata": {},
   "source": [
    "Swarmplots of the Pachymetry values for healthy and glaucomatous patients:"
   ]
  },
  {
   "cell_type": "code",
   "execution_count": 845,
   "metadata": {},
   "outputs": [
    {
     "data": {
      "image/png": "[encoded data removed]",
      "text/plain": [
       "<Figure size 864x432 with 1 Axes>"
      ]
     },
     "metadata": {},
     "output_type": "display_data"
    }
   ],
   "source": [
    "# Set the figure size\n",
    "plt.figure(figsize=(12, 6))\n",
    "\n",
    "# Plot the first swarm plot\n",
    "ax1 = sns.swarmplot(x='Diagnosis', y='Pachymetry', data=od_cleaned)\n",
    "ax1.set_title('OD - Pachymetry vs Diagnosis')\n",
    "\n",
    "# Show the plot\n",
    "plt.show()"
   ]
  },
  {
   "cell_type": "code",
   "execution_count": 846,
   "metadata": {},
   "outputs": [
    {
     "data": {
      "image/png": "[encoded data removed]",
      "text/plain": [
       "<Figure size 864x432 with 1 Axes>"
      ]
     },
     "metadata": {},
     "output_type": "display_data"
    }
   ],
   "source": [
    "# Set the figure size\n",
    "plt.figure(figsize=(12, 6))\n",
    "\n",
    "# Plot the first swarm plot\n",
    "ax1 = sns.swarmplot(x='Diagnosis', y='Pachymetry', data=os_cleaned)\n",
    "ax1.set_title('OS - Pachymetry vs Diagnosis')\n",
    "\n",
    "# Show the plot\n",
    "plt.show()"
   ]
  }
 ],
 "metadata": {
  "kernelspec": {
   "display_name": "Python 3",
   "language": "python",
   "name": "python3"
  },
  "language_info": {
   "codemirror_mode": {
    "name": "ipython",
    "version": 3
   },
   "file_extension": ".py",
   "mimetype": "text/x-python",
   "name": "python",
   "nbconvert_exporter": "python",
   "pygments_lexer": "ipython3",
   "version": "3.10.11"
  },
  "orig_nbformat": 4
 },
 "nbformat": 4,
 "nbformat_minor": 2
}
